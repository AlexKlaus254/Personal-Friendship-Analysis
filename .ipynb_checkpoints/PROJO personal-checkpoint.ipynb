{
 "cells": [
  {
   "cell_type": "markdown",
   "id": "6d452beb",
   "metadata": {},
   "source": [
    "# PROJO personal\n",
    "\"\"\"\n",
    "Created on Friday Jan 06/01/2023\n",
    "\n",
    "@author: Klaus\n",
    "\"\"\""
   ]
  },
  {
   "cell_type": "code",
   "execution_count": 1,
   "id": "5d363049",
   "metadata": {},
   "outputs": [],
   "source": [
    "#pip install plotly --upgrade"
   ]
  },
  {
   "cell_type": "code",
   "execution_count": 2,
   "id": "298298c5",
   "metadata": {},
   "outputs": [],
   "source": [
    "#Import necessary packages\n",
    "import pandas as pd\n",
    "import numpy as np\n",
    "import seaborn as sns\n",
    "import xlrd\n",
    "import datetime\n",
    "import plotly\n",
    "#import plotly.plotly as py\n",
    "from chart_studio.plotly import plotly as py\n",
    "import plotly.graph_objs as go\n",
    "from plotly import tools \n",
    "import matplotlib.pyplot as plt\n",
    "from wordcloud import WordCloud\n",
    "from nltk.corpus import stopwords\n"
   ]
  },
  {
   "cell_type": "code",
   "execution_count": 3,
   "id": "2e5147f3",
   "metadata": {},
   "outputs": [
    {
     "name": "stdout",
     "output_type": "stream",
     "text": [
      "5.11.0\n"
     ]
    }
   ],
   "source": [
    " print(plotly.__version__)"
   ]
  },
  {
   "cell_type": "code",
   "execution_count": 4,
   "id": "5383d5e1",
   "metadata": {
    "scrolled": true
   },
   "outputs": [],
   "source": [
    "#import plotly.io as pio\n",
    "#pio.orca.config.update(plotly_domain='chart-studio.plotly.com')"
   ]
  },
  {
   "cell_type": "code",
   "execution_count": 5,
   "id": "6350a01a",
   "metadata": {},
   "outputs": [],
   "source": [
    "#SET PLOTLY CREDENTIALS\n",
    "#plotly.plotly.set_credentials_file(username='Klaus254', api_key='')\n",
    "py.sign_in('Klaus254', 'XMB')"
   ]
  },
  {
   "cell_type": "code",
   "execution_count": 6,
   "id": "762591db",
   "metadata": {},
   "outputs": [],
   "source": [
    "# Reading in the files\n",
    "shaz = pd.read_excel('E:/DALBERG PROJECTS/PROJO Personal/DATA/RAW/Excell chats/WhatsApp Chat with Shaz Kandie.xlsx')\n",
    "vee = pd.read_excel('E:/DALBERG PROJECTS/PROJO Personal/DATA/RAW/Excell chats/WhatsApp Chat with Vee.xlsx')\n",
    "vin = pd.read_excel('E:/DALBERG PROJECTS/PROJO Personal/DATA/RAW/Excell chats/WhatsApp Chat with Vin.xlsx')\n",
    "hannan = pd.read_excel('E:/DALBERG PROJECTS/PROJO Personal/DATA/RAW/Excell chats/WhatsApp Chat with Hannan.xlsx')"
   ]
  },
  {
   "cell_type": "code",
   "execution_count": 7,
   "id": "7317a45f",
   "metadata": {},
   "outputs": [],
   "source": [
    "#Date_Time = datetime.datetime.combine(shaz.Date,shaz.Time)\n",
    "shaz['Date_Time'] = [datetime.datetime.combine(*x) for x in zip(shaz['Date'],shaz['Time'])]"
   ]
  },
  {
   "cell_type": "code",
   "execution_count": 8,
   "id": "568211fa",
   "metadata": {},
   "outputs": [
    {
     "data": {
      "text/plain": [
       "0      2022-11-08 10:49:00\n",
       "1      2022-11-08 10:50:00\n",
       "2      2022-11-08 10:50:00\n",
       "3      2022-11-08 11:08:00\n",
       "4      2022-11-08 11:09:00\n",
       "               ...        \n",
       "1651   2022-12-17 19:14:00\n",
       "1652   2022-12-18 18:03:00\n",
       "1653   2022-12-18 18:09:00\n",
       "1654   2022-12-19 19:41:00\n",
       "1655   2022-12-20 09:31:00\n",
       "Name: Date_Time, Length: 1656, dtype: datetime64[ns]"
      ]
     },
     "execution_count": 8,
     "metadata": {},
     "output_type": "execute_result"
    }
   ],
   "source": [
    "shaz.Date_Time "
   ]
  },
  {
   "cell_type": "code",
   "execution_count": 9,
   "id": "a6042068",
   "metadata": {
    "scrolled": false
   },
   "outputs": [
    {
     "name": "stdout",
     "output_type": "stream",
     "text": [
      "        Date      Time          Name                                     Text  \\\n",
      "0 2022-11-08  10:49:00  Shaz Kandie:                   Anything baby unafanya   \n",
      "1 2022-11-08  10:50:00  Shaz Kandie:  IMG-20221108-WA0009.jpg (file attached)   \n",
      "2 2022-11-08  10:50:00  Shaz Kandie:  IMG-20221108-WA0008.jpg (file attached)   \n",
      "3 2022-11-08  11:08:00   Alex Klaus:                  Izi umefanya tu sai...?   \n",
      "4 2022-11-08  11:09:00   Alex Klaus:                      I missed you alot💯😁   \n",
      "\n",
      "            Date_Time  \n",
      "0 2022-11-08 10:49:00  \n",
      "1 2022-11-08 10:50:00  \n",
      "2 2022-11-08 10:50:00  \n",
      "3 2022-11-08 11:08:00  \n",
      "4 2022-11-08 11:09:00  \n"
     ]
    }
   ],
   "source": [
    "print(shaz.head())\n"
   ]
  },
  {
   "cell_type": "code",
   "execution_count": 10,
   "id": "ea35697b",
   "metadata": {},
   "outputs": [],
   "source": [
    "# removing media messages with not text content\n",
    "shaz_no_media = shaz[shaz.Text != '<Media omitted>']"
   ]
  },
  {
   "cell_type": "code",
   "execution_count": 11,
   "id": "ece44b23",
   "metadata": {},
   "outputs": [],
   "source": [
    "#Date = pd.to_datetime(shaz.Date)\n",
    "# Convert the dates from strings to date objects\n",
    "#Date = shaz.Date.apply(lambda x: datetime.date(*[int(i) for i in x.split('-')]))"
   ]
  },
  {
   "cell_type": "code",
   "execution_count": 12,
   "id": "ce82307d",
   "metadata": {},
   "outputs": [],
   "source": [
    "# aux function to lable days of week\n",
    "def label_daysofweek (row):\n",
    "    if row['weekday'] == 0 :\n",
    "        return 'Monday'\n",
    "    if row['weekday'] == 1 :\n",
    "        return 'Tuesday'\n",
    "    if row['weekday'] == 2 :\n",
    "        return 'Wednesday'\n",
    "    if row['weekday'] == 3 :\n",
    "        return 'Thursday'\n",
    "    if row['weekday'] == 4 :\n",
    "        return 'Friday'\n",
    "    if row['weekday'] == 5 :\n",
    "        return 'Saturday'\n",
    "    if row['weekday'] == 6 :\n",
    "        return 'Sunday'\n",
    "    return\n",
    "\n"
   ]
  },
  {
   "cell_type": "code",
   "execution_count": 13,
   "id": "8a65cb27",
   "metadata": {},
   "outputs": [],
   "source": [
    "shaz['weekday'] = shaz['Date_Time'].apply(lambda x: x.weekday()) # list of the days of the week"
   ]
  },
  {
   "cell_type": "code",
   "execution_count": 14,
   "id": "e317e893",
   "metadata": {},
   "outputs": [
    {
     "data": {
      "text/plain": [
       "'\\n- who messaged more in general?\\n- how does travel (together, separate) affects communication?\\n- what times of days do we usually chat in? \\n- do we chat more on weekdays/weekends?\\n- who sends the first message in the monring more often?\\n- who initiates conversation in what percentage of the time, in general?\\n- whose response time is longer?\\n\\nContent:\\n- exclude stopwords english\\n- which words does each of us use more often?\\n- which nicknames stand out?\\n- who is more positive and who is more negative? (lookup online)\\n- was any word used more often/less often with time?\\n- who sent more media?\\n- how many time did each say the word love, and when did it start?\\n'"
      ]
     },
     "execution_count": 14,
     "metadata": {},
     "output_type": "execute_result"
    }
   ],
   "source": [
    "# Brainstorming:\n",
    "'''\n",
    "- who messaged more in general?\n",
    "- how does travel (together, separate) affects communication?\n",
    "- what times of days do we usually chat in? \n",
    "- do we chat more on weekdays/weekends?\n",
    "- who sends the first message in the monring more often?\n",
    "- who initiates conversation in what percentage of the time, in general?\n",
    "- whose response time is longer?\n",
    "\n",
    "Content:\n",
    "- exclude stopwords english\n",
    "- which words does each of us use more often?\n",
    "- which nicknames stand out?\n",
    "- who is more positive and who is more negative? (lookup online)\n",
    "- was any word used more often/less often with time?\n",
    "- who sent more media?\n",
    "- how many time did each say the word love, and when did it start?\n",
    "'''"
   ]
  },
  {
   "cell_type": "code",
   "execution_count": 15,
   "id": "4ae93277",
   "metadata": {},
   "outputs": [
    {
     "name": "stdout",
     "output_type": "stream",
     "text": [
      "Shaz Kandie = 933 and  Alex Klaus = 723\n"
     ]
    }
   ],
   "source": [
    "### NUMBERS\n",
    "\n",
    "## overall count of messages:\n",
    "Alex = shaz[shaz.Name == 'Alex Klaus:'].Name.count()\n",
    "Shaz = shaz[shaz.Name == 'Shaz Kandie:'].Name.count()\n",
    "print('Shaz Kandie =',Shaz, 'and ','Alex Klaus =',Alex)"
   ]
  },
  {
   "cell_type": "code",
   "execution_count": 16,
   "id": "731d3eb2",
   "metadata": {},
   "outputs": [],
   "source": [
    "shaz_timeline = shaz.groupby([shaz['Date_Time'].dt.date,'Name']).Text.count().reset_index()\n",
    "Alex_std = np.std(shaz_timeline[shaz_timeline['Name']=='Alex Klaus:'].Text)\n",
    "Shaz_std = np.std(shaz_timeline[shaz_timeline['Name']=='Shaz Kandie:'].Text)"
   ]
  },
  {
   "cell_type": "code",
   "execution_count": 17,
   "id": "8a9dd80e",
   "metadata": {},
   "outputs": [],
   "source": [
    "## timeline of message sending by both:\n",
    "traceA = go.Scatter(\n",
    "        x = list(shaz_timeline[shaz_timeline['Name']=='Alex Klaus:'].Date_Time),\n",
    "        y = list(shaz_timeline[shaz_timeline['Name']=='Alex Klaus:'].Text),\n",
    "        mode = 'lines',\n",
    "        name = 'by Klaus',\n",
    "        marker = dict(\n",
    "                color = 'rgb(221,46,107)'\n",
    "                )\n",
    "        )\n",
    "\n",
    "traceS = go.Scatter(\n",
    "        x = list(shaz_timeline[shaz_timeline['Name']=='Shaz Kandie:'].Date_Time),\n",
    "        y = list(shaz_timeline[shaz_timeline['Name']=='Shaz Kandie:'].Text),\n",
    "        mode = 'lines',\n",
    "        name = 'by Shaz',\n",
    "        marker = dict(\n",
    "                color = 'rgb(0,102,153)'\n",
    "                )\n",
    "        )\n",
    "\n",
    "data = [traceS, traceA]\n"
   ]
  },
  {
   "cell_type": "code",
   "execution_count": 18,
   "id": "a4de178e",
   "metadata": {},
   "outputs": [
    {
     "data": {
      "text/html": [
       "\n",
       "        <iframe\n",
       "            width=\"100%\"\n",
       "            height=\"525px\"\n",
       "            src=\"https://plotly.com/~Klaus254/1.embed\"\n",
       "            frameborder=\"0\"\n",
       "            allowfullscreen\n",
       "            \n",
       "        ></iframe>\n",
       "        "
      ],
      "text/plain": [
       "<IPython.lib.display.IFrame at 0x18b0db50>"
      ]
     },
     "execution_count": 18,
     "metadata": {},
     "output_type": "execute_result"
    }
   ],
   "source": [
    "# slider set up:\n",
    "layout = dict(\n",
    "    title='All Messages Ever Sent, Timeline',\n",
    "    legend = dict(orientation=\"h\"),\n",
    "    xaxis=dict(\n",
    "        rangeselector=dict(\n",
    "            buttons=list([\n",
    "                dict(count=1,\n",
    "                     label='1m',\n",
    "                     step='month',\n",
    "                     stepmode='backward'),\n",
    "                dict(count=6,\n",
    "                     label='6m',\n",
    "                     step='month',\n",
    "                     stepmode='backward'),\n",
    "                dict(count=1,\n",
    "                    label='YTD',\n",
    "                    step='year',\n",
    "                    stepmode='todate'),\n",
    "                dict(count=1,\n",
    "                    label='1y',\n",
    "                    step='year',\n",
    "                    stepmode='backward'),\n",
    "                dict(step='all')\n",
    "            ])\n",
    "        ),\n",
    "        rangeslider=dict(\n",
    "            visible = True\n",
    "        ),\n",
    "        type='date'\n",
    "    )\n",
    ")\n",
    "\n",
    "\n",
    "fig = dict(data=data, layout=layout)\n",
    "py.iplot(fig, filename='analysis2-messaging-trends')\n"
   ]
  },
  {
   "cell_type": "code",
   "execution_count": 19,
   "id": "fa2c22ae",
   "metadata": {},
   "outputs": [],
   "source": [
    "# grouping by sender and by date to sum daily count:\n",
    "shaz_daily_counts = shaz.groupby([shaz['Date_Time'].dt.date,'Name']).Text.count().reset_index()"
   ]
  },
  {
   "cell_type": "code",
   "execution_count": 20,
   "id": "2025de56",
   "metadata": {},
   "outputs": [
    {
     "name": "stdout",
     "output_type": "stream",
     "text": [
      "     Date_Time          Name  Text\n",
      "0   2022-11-08   Alex Klaus:    31\n",
      "1   2022-11-08  Shaz Kandie:    33\n",
      "2   2022-11-09   Alex Klaus:    28\n",
      "3   2022-11-09  Shaz Kandie:    34\n",
      "4   2022-11-10   Alex Klaus:    50\n",
      "..         ...           ...   ...\n",
      "68  2022-12-17   Alex Klaus:     1\n",
      "69  2022-12-17  Shaz Kandie:     1\n",
      "70  2022-12-18   Alex Klaus:     2\n",
      "71  2022-12-19  Shaz Kandie:     1\n",
      "72  2022-12-20   Alex Klaus:     1\n",
      "\n",
      "[73 rows x 3 columns]\n"
     ]
    }
   ],
   "source": [
    "print(shaz_daily_counts)"
   ]
  },
  {
   "cell_type": "code",
   "execution_count": 21,
   "id": "856b206a",
   "metadata": {},
   "outputs": [],
   "source": [
    "## weekday averages from each sender:\n",
    "shaz_weekly = shaz.groupby(['Name',shaz['Date_Time'].dt.day,'weekday']).Text.count().reset_index()\n",
    "shaz_weekly['weekday_w'] = shaz_weekly.apply(lambda row: label_daysofweek (row),axis=1)\n",
    "shaz_weekly_avg = shaz_weekly.groupby(['weekday','Name']).Text.mean().reset_index()\n",
    "\n",
    "shaz_weekly = shaz_weekly.sort_values(by='weekday')\n",
    "shaz_weekly = shaz_weekly[shaz_weekly['Text']<700]"
   ]
  },
  {
   "cell_type": "code",
   "execution_count": 22,
   "id": "d1b8160e",
   "metadata": {},
   "outputs": [
    {
     "ename": "PlotlyRequestError",
     "evalue": "Sorry, a file named 'analysis2-weekday-msgs' already exists",
     "output_type": "error",
     "traceback": [
      "\u001b[1;31m---------------------------------------------------------------------------\u001b[0m",
      "\u001b[1;31mRemoteDisconnected\u001b[0m                        Traceback (most recent call last)",
      "File \u001b[1;32mC:\\ProgramData\\Anaconda3\\lib\\site-packages\\urllib3\\connectionpool.py:703\u001b[0m, in \u001b[0;36mHTTPConnectionPool.urlopen\u001b[1;34m(self, method, url, body, headers, retries, redirect, assert_same_host, timeout, pool_timeout, release_conn, chunked, body_pos, **response_kw)\u001b[0m\n\u001b[0;32m    702\u001b[0m \u001b[38;5;66;03m# Make the request on the httplib connection object.\u001b[39;00m\n\u001b[1;32m--> 703\u001b[0m httplib_response \u001b[38;5;241m=\u001b[39m \u001b[38;5;28;43mself\u001b[39;49m\u001b[38;5;241;43m.\u001b[39;49m\u001b[43m_make_request\u001b[49m\u001b[43m(\u001b[49m\n\u001b[0;32m    704\u001b[0m \u001b[43m    \u001b[49m\u001b[43mconn\u001b[49m\u001b[43m,\u001b[49m\n\u001b[0;32m    705\u001b[0m \u001b[43m    \u001b[49m\u001b[43mmethod\u001b[49m\u001b[43m,\u001b[49m\n\u001b[0;32m    706\u001b[0m \u001b[43m    \u001b[49m\u001b[43murl\u001b[49m\u001b[43m,\u001b[49m\n\u001b[0;32m    707\u001b[0m \u001b[43m    \u001b[49m\u001b[43mtimeout\u001b[49m\u001b[38;5;241;43m=\u001b[39;49m\u001b[43mtimeout_obj\u001b[49m\u001b[43m,\u001b[49m\n\u001b[0;32m    708\u001b[0m \u001b[43m    \u001b[49m\u001b[43mbody\u001b[49m\u001b[38;5;241;43m=\u001b[39;49m\u001b[43mbody\u001b[49m\u001b[43m,\u001b[49m\n\u001b[0;32m    709\u001b[0m \u001b[43m    \u001b[49m\u001b[43mheaders\u001b[49m\u001b[38;5;241;43m=\u001b[39;49m\u001b[43mheaders\u001b[49m\u001b[43m,\u001b[49m\n\u001b[0;32m    710\u001b[0m \u001b[43m    \u001b[49m\u001b[43mchunked\u001b[49m\u001b[38;5;241;43m=\u001b[39;49m\u001b[43mchunked\u001b[49m\u001b[43m,\u001b[49m\n\u001b[0;32m    711\u001b[0m \u001b[43m\u001b[49m\u001b[43m)\u001b[49m\n\u001b[0;32m    713\u001b[0m \u001b[38;5;66;03m# If we're going to release the connection in ``finally:``, then\u001b[39;00m\n\u001b[0;32m    714\u001b[0m \u001b[38;5;66;03m# the response doesn't need to know about the connection. Otherwise\u001b[39;00m\n\u001b[0;32m    715\u001b[0m \u001b[38;5;66;03m# it will also try to release it and we'll have a double-release\u001b[39;00m\n\u001b[0;32m    716\u001b[0m \u001b[38;5;66;03m# mess.\u001b[39;00m\n",
      "File \u001b[1;32mC:\\ProgramData\\Anaconda3\\lib\\site-packages\\urllib3\\connectionpool.py:449\u001b[0m, in \u001b[0;36mHTTPConnectionPool._make_request\u001b[1;34m(self, conn, method, url, timeout, chunked, **httplib_request_kw)\u001b[0m\n\u001b[0;32m    445\u001b[0m         \u001b[38;5;28;01mexcept\u001b[39;00m \u001b[38;5;167;01mBaseException\u001b[39;00m \u001b[38;5;28;01mas\u001b[39;00m e:\n\u001b[0;32m    446\u001b[0m             \u001b[38;5;66;03m# Remove the TypeError from the exception chain in\u001b[39;00m\n\u001b[0;32m    447\u001b[0m             \u001b[38;5;66;03m# Python 3 (including for exceptions like SystemExit).\u001b[39;00m\n\u001b[0;32m    448\u001b[0m             \u001b[38;5;66;03m# Otherwise it looks like a bug in the code.\u001b[39;00m\n\u001b[1;32m--> 449\u001b[0m             \u001b[43msix\u001b[49m\u001b[38;5;241;43m.\u001b[39;49m\u001b[43mraise_from\u001b[49m\u001b[43m(\u001b[49m\u001b[43me\u001b[49m\u001b[43m,\u001b[49m\u001b[43m \u001b[49m\u001b[38;5;28;43;01mNone\u001b[39;49;00m\u001b[43m)\u001b[49m\n\u001b[0;32m    450\u001b[0m \u001b[38;5;28;01mexcept\u001b[39;00m (SocketTimeout, BaseSSLError, SocketError) \u001b[38;5;28;01mas\u001b[39;00m e:\n",
      "File \u001b[1;32m<string>:3\u001b[0m, in \u001b[0;36mraise_from\u001b[1;34m(value, from_value)\u001b[0m\n",
      "File \u001b[1;32mC:\\ProgramData\\Anaconda3\\lib\\site-packages\\urllib3\\connectionpool.py:444\u001b[0m, in \u001b[0;36mHTTPConnectionPool._make_request\u001b[1;34m(self, conn, method, url, timeout, chunked, **httplib_request_kw)\u001b[0m\n\u001b[0;32m    443\u001b[0m \u001b[38;5;28;01mtry\u001b[39;00m:\n\u001b[1;32m--> 444\u001b[0m     httplib_response \u001b[38;5;241m=\u001b[39m \u001b[43mconn\u001b[49m\u001b[38;5;241;43m.\u001b[39;49m\u001b[43mgetresponse\u001b[49m\u001b[43m(\u001b[49m\u001b[43m)\u001b[49m\n\u001b[0;32m    445\u001b[0m \u001b[38;5;28;01mexcept\u001b[39;00m \u001b[38;5;167;01mBaseException\u001b[39;00m \u001b[38;5;28;01mas\u001b[39;00m e:\n\u001b[0;32m    446\u001b[0m     \u001b[38;5;66;03m# Remove the TypeError from the exception chain in\u001b[39;00m\n\u001b[0;32m    447\u001b[0m     \u001b[38;5;66;03m# Python 3 (including for exceptions like SystemExit).\u001b[39;00m\n\u001b[0;32m    448\u001b[0m     \u001b[38;5;66;03m# Otherwise it looks like a bug in the code.\u001b[39;00m\n",
      "File \u001b[1;32mC:\\ProgramData\\Anaconda3\\lib\\http\\client.py:1377\u001b[0m, in \u001b[0;36mHTTPConnection.getresponse\u001b[1;34m(self)\u001b[0m\n\u001b[0;32m   1376\u001b[0m \u001b[38;5;28;01mtry\u001b[39;00m:\n\u001b[1;32m-> 1377\u001b[0m     \u001b[43mresponse\u001b[49m\u001b[38;5;241;43m.\u001b[39;49m\u001b[43mbegin\u001b[49m\u001b[43m(\u001b[49m\u001b[43m)\u001b[49m\n\u001b[0;32m   1378\u001b[0m \u001b[38;5;28;01mexcept\u001b[39;00m \u001b[38;5;167;01mConnectionError\u001b[39;00m:\n",
      "File \u001b[1;32mC:\\ProgramData\\Anaconda3\\lib\\http\\client.py:320\u001b[0m, in \u001b[0;36mHTTPResponse.begin\u001b[1;34m(self)\u001b[0m\n\u001b[0;32m    319\u001b[0m \u001b[38;5;28;01mwhile\u001b[39;00m \u001b[38;5;28;01mTrue\u001b[39;00m:\n\u001b[1;32m--> 320\u001b[0m     version, status, reason \u001b[38;5;241m=\u001b[39m \u001b[38;5;28;43mself\u001b[39;49m\u001b[38;5;241;43m.\u001b[39;49m\u001b[43m_read_status\u001b[49m\u001b[43m(\u001b[49m\u001b[43m)\u001b[49m\n\u001b[0;32m    321\u001b[0m     \u001b[38;5;28;01mif\u001b[39;00m status \u001b[38;5;241m!=\u001b[39m CONTINUE:\n",
      "File \u001b[1;32mC:\\ProgramData\\Anaconda3\\lib\\http\\client.py:289\u001b[0m, in \u001b[0;36mHTTPResponse._read_status\u001b[1;34m(self)\u001b[0m\n\u001b[0;32m    286\u001b[0m \u001b[38;5;28;01mif\u001b[39;00m \u001b[38;5;129;01mnot\u001b[39;00m line:\n\u001b[0;32m    287\u001b[0m     \u001b[38;5;66;03m# Presumably, the server closed the connection before\u001b[39;00m\n\u001b[0;32m    288\u001b[0m     \u001b[38;5;66;03m# sending a valid response.\u001b[39;00m\n\u001b[1;32m--> 289\u001b[0m     \u001b[38;5;28;01mraise\u001b[39;00m RemoteDisconnected(\u001b[38;5;124m\"\u001b[39m\u001b[38;5;124mRemote end closed connection without\u001b[39m\u001b[38;5;124m\"\u001b[39m\n\u001b[0;32m    290\u001b[0m                              \u001b[38;5;124m\"\u001b[39m\u001b[38;5;124m response\u001b[39m\u001b[38;5;124m\"\u001b[39m)\n\u001b[0;32m    291\u001b[0m \u001b[38;5;28;01mtry\u001b[39;00m:\n",
      "\u001b[1;31mRemoteDisconnected\u001b[0m: Remote end closed connection without response",
      "\nDuring handling of the above exception, another exception occurred:\n",
      "\u001b[1;31mProtocolError\u001b[0m                             Traceback (most recent call last)",
      "File \u001b[1;32mC:\\ProgramData\\Anaconda3\\lib\\site-packages\\requests\\adapters.py:440\u001b[0m, in \u001b[0;36mHTTPAdapter.send\u001b[1;34m(self, request, stream, timeout, verify, cert, proxies)\u001b[0m\n\u001b[0;32m    439\u001b[0m \u001b[38;5;28;01mif\u001b[39;00m \u001b[38;5;129;01mnot\u001b[39;00m chunked:\n\u001b[1;32m--> 440\u001b[0m     resp \u001b[38;5;241m=\u001b[39m \u001b[43mconn\u001b[49m\u001b[38;5;241;43m.\u001b[39;49m\u001b[43murlopen\u001b[49m\u001b[43m(\u001b[49m\n\u001b[0;32m    441\u001b[0m \u001b[43m        \u001b[49m\u001b[43mmethod\u001b[49m\u001b[38;5;241;43m=\u001b[39;49m\u001b[43mrequest\u001b[49m\u001b[38;5;241;43m.\u001b[39;49m\u001b[43mmethod\u001b[49m\u001b[43m,\u001b[49m\n\u001b[0;32m    442\u001b[0m \u001b[43m        \u001b[49m\u001b[43murl\u001b[49m\u001b[38;5;241;43m=\u001b[39;49m\u001b[43murl\u001b[49m\u001b[43m,\u001b[49m\n\u001b[0;32m    443\u001b[0m \u001b[43m        \u001b[49m\u001b[43mbody\u001b[49m\u001b[38;5;241;43m=\u001b[39;49m\u001b[43mrequest\u001b[49m\u001b[38;5;241;43m.\u001b[39;49m\u001b[43mbody\u001b[49m\u001b[43m,\u001b[49m\n\u001b[0;32m    444\u001b[0m \u001b[43m        \u001b[49m\u001b[43mheaders\u001b[49m\u001b[38;5;241;43m=\u001b[39;49m\u001b[43mrequest\u001b[49m\u001b[38;5;241;43m.\u001b[39;49m\u001b[43mheaders\u001b[49m\u001b[43m,\u001b[49m\n\u001b[0;32m    445\u001b[0m \u001b[43m        \u001b[49m\u001b[43mredirect\u001b[49m\u001b[38;5;241;43m=\u001b[39;49m\u001b[38;5;28;43;01mFalse\u001b[39;49;00m\u001b[43m,\u001b[49m\n\u001b[0;32m    446\u001b[0m \u001b[43m        \u001b[49m\u001b[43massert_same_host\u001b[49m\u001b[38;5;241;43m=\u001b[39;49m\u001b[38;5;28;43;01mFalse\u001b[39;49;00m\u001b[43m,\u001b[49m\n\u001b[0;32m    447\u001b[0m \u001b[43m        \u001b[49m\u001b[43mpreload_content\u001b[49m\u001b[38;5;241;43m=\u001b[39;49m\u001b[38;5;28;43;01mFalse\u001b[39;49;00m\u001b[43m,\u001b[49m\n\u001b[0;32m    448\u001b[0m \u001b[43m        \u001b[49m\u001b[43mdecode_content\u001b[49m\u001b[38;5;241;43m=\u001b[39;49m\u001b[38;5;28;43;01mFalse\u001b[39;49;00m\u001b[43m,\u001b[49m\n\u001b[0;32m    449\u001b[0m \u001b[43m        \u001b[49m\u001b[43mretries\u001b[49m\u001b[38;5;241;43m=\u001b[39;49m\u001b[38;5;28;43mself\u001b[39;49m\u001b[38;5;241;43m.\u001b[39;49m\u001b[43mmax_retries\u001b[49m\u001b[43m,\u001b[49m\n\u001b[0;32m    450\u001b[0m \u001b[43m        \u001b[49m\u001b[43mtimeout\u001b[49m\u001b[38;5;241;43m=\u001b[39;49m\u001b[43mtimeout\u001b[49m\n\u001b[0;32m    451\u001b[0m \u001b[43m    \u001b[49m\u001b[43m)\u001b[49m\n\u001b[0;32m    453\u001b[0m \u001b[38;5;66;03m# Send the request.\u001b[39;00m\n\u001b[0;32m    454\u001b[0m \u001b[38;5;28;01melse\u001b[39;00m:\n",
      "File \u001b[1;32mC:\\ProgramData\\Anaconda3\\lib\\site-packages\\urllib3\\connectionpool.py:785\u001b[0m, in \u001b[0;36mHTTPConnectionPool.urlopen\u001b[1;34m(self, method, url, body, headers, retries, redirect, assert_same_host, timeout, pool_timeout, release_conn, chunked, body_pos, **response_kw)\u001b[0m\n\u001b[0;32m    783\u001b[0m     e \u001b[38;5;241m=\u001b[39m ProtocolError(\u001b[38;5;124m\"\u001b[39m\u001b[38;5;124mConnection aborted.\u001b[39m\u001b[38;5;124m\"\u001b[39m, e)\n\u001b[1;32m--> 785\u001b[0m retries \u001b[38;5;241m=\u001b[39m \u001b[43mretries\u001b[49m\u001b[38;5;241;43m.\u001b[39;49m\u001b[43mincrement\u001b[49m\u001b[43m(\u001b[49m\n\u001b[0;32m    786\u001b[0m \u001b[43m    \u001b[49m\u001b[43mmethod\u001b[49m\u001b[43m,\u001b[49m\u001b[43m \u001b[49m\u001b[43murl\u001b[49m\u001b[43m,\u001b[49m\u001b[43m \u001b[49m\u001b[43merror\u001b[49m\u001b[38;5;241;43m=\u001b[39;49m\u001b[43me\u001b[49m\u001b[43m,\u001b[49m\u001b[43m \u001b[49m\u001b[43m_pool\u001b[49m\u001b[38;5;241;43m=\u001b[39;49m\u001b[38;5;28;43mself\u001b[39;49m\u001b[43m,\u001b[49m\u001b[43m \u001b[49m\u001b[43m_stacktrace\u001b[49m\u001b[38;5;241;43m=\u001b[39;49m\u001b[43msys\u001b[49m\u001b[38;5;241;43m.\u001b[39;49m\u001b[43mexc_info\u001b[49m\u001b[43m(\u001b[49m\u001b[43m)\u001b[49m\u001b[43m[\u001b[49m\u001b[38;5;241;43m2\u001b[39;49m\u001b[43m]\u001b[49m\n\u001b[0;32m    787\u001b[0m \u001b[43m\u001b[49m\u001b[43m)\u001b[49m\n\u001b[0;32m    788\u001b[0m retries\u001b[38;5;241m.\u001b[39msleep()\n",
      "File \u001b[1;32mC:\\ProgramData\\Anaconda3\\lib\\site-packages\\urllib3\\util\\retry.py:550\u001b[0m, in \u001b[0;36mRetry.increment\u001b[1;34m(self, method, url, response, error, _pool, _stacktrace)\u001b[0m\n\u001b[0;32m    549\u001b[0m \u001b[38;5;28;01mif\u001b[39;00m read \u001b[38;5;129;01mis\u001b[39;00m \u001b[38;5;28;01mFalse\u001b[39;00m \u001b[38;5;129;01mor\u001b[39;00m \u001b[38;5;129;01mnot\u001b[39;00m \u001b[38;5;28mself\u001b[39m\u001b[38;5;241m.\u001b[39m_is_method_retryable(method):\n\u001b[1;32m--> 550\u001b[0m     \u001b[38;5;28;01mraise\u001b[39;00m \u001b[43msix\u001b[49m\u001b[38;5;241;43m.\u001b[39;49m\u001b[43mreraise\u001b[49m\u001b[43m(\u001b[49m\u001b[38;5;28;43mtype\u001b[39;49m\u001b[43m(\u001b[49m\u001b[43merror\u001b[49m\u001b[43m)\u001b[49m\u001b[43m,\u001b[49m\u001b[43m \u001b[49m\u001b[43merror\u001b[49m\u001b[43m,\u001b[49m\u001b[43m \u001b[49m\u001b[43m_stacktrace\u001b[49m\u001b[43m)\u001b[49m\n\u001b[0;32m    551\u001b[0m \u001b[38;5;28;01melif\u001b[39;00m read \u001b[38;5;129;01mis\u001b[39;00m \u001b[38;5;129;01mnot\u001b[39;00m \u001b[38;5;28;01mNone\u001b[39;00m:\n",
      "File \u001b[1;32mC:\\ProgramData\\Anaconda3\\lib\\site-packages\\urllib3\\packages\\six.py:769\u001b[0m, in \u001b[0;36mreraise\u001b[1;34m(tp, value, tb)\u001b[0m\n\u001b[0;32m    768\u001b[0m \u001b[38;5;28;01mif\u001b[39;00m value\u001b[38;5;241m.\u001b[39m__traceback__ \u001b[38;5;129;01mis\u001b[39;00m \u001b[38;5;129;01mnot\u001b[39;00m tb:\n\u001b[1;32m--> 769\u001b[0m     \u001b[38;5;28;01mraise\u001b[39;00m value\u001b[38;5;241m.\u001b[39mwith_traceback(tb)\n\u001b[0;32m    770\u001b[0m \u001b[38;5;28;01mraise\u001b[39;00m value\n",
      "File \u001b[1;32mC:\\ProgramData\\Anaconda3\\lib\\site-packages\\urllib3\\connectionpool.py:703\u001b[0m, in \u001b[0;36mHTTPConnectionPool.urlopen\u001b[1;34m(self, method, url, body, headers, retries, redirect, assert_same_host, timeout, pool_timeout, release_conn, chunked, body_pos, **response_kw)\u001b[0m\n\u001b[0;32m    702\u001b[0m \u001b[38;5;66;03m# Make the request on the httplib connection object.\u001b[39;00m\n\u001b[1;32m--> 703\u001b[0m httplib_response \u001b[38;5;241m=\u001b[39m \u001b[38;5;28;43mself\u001b[39;49m\u001b[38;5;241;43m.\u001b[39;49m\u001b[43m_make_request\u001b[49m\u001b[43m(\u001b[49m\n\u001b[0;32m    704\u001b[0m \u001b[43m    \u001b[49m\u001b[43mconn\u001b[49m\u001b[43m,\u001b[49m\n\u001b[0;32m    705\u001b[0m \u001b[43m    \u001b[49m\u001b[43mmethod\u001b[49m\u001b[43m,\u001b[49m\n\u001b[0;32m    706\u001b[0m \u001b[43m    \u001b[49m\u001b[43murl\u001b[49m\u001b[43m,\u001b[49m\n\u001b[0;32m    707\u001b[0m \u001b[43m    \u001b[49m\u001b[43mtimeout\u001b[49m\u001b[38;5;241;43m=\u001b[39;49m\u001b[43mtimeout_obj\u001b[49m\u001b[43m,\u001b[49m\n\u001b[0;32m    708\u001b[0m \u001b[43m    \u001b[49m\u001b[43mbody\u001b[49m\u001b[38;5;241;43m=\u001b[39;49m\u001b[43mbody\u001b[49m\u001b[43m,\u001b[49m\n\u001b[0;32m    709\u001b[0m \u001b[43m    \u001b[49m\u001b[43mheaders\u001b[49m\u001b[38;5;241;43m=\u001b[39;49m\u001b[43mheaders\u001b[49m\u001b[43m,\u001b[49m\n\u001b[0;32m    710\u001b[0m \u001b[43m    \u001b[49m\u001b[43mchunked\u001b[49m\u001b[38;5;241;43m=\u001b[39;49m\u001b[43mchunked\u001b[49m\u001b[43m,\u001b[49m\n\u001b[0;32m    711\u001b[0m \u001b[43m\u001b[49m\u001b[43m)\u001b[49m\n\u001b[0;32m    713\u001b[0m \u001b[38;5;66;03m# If we're going to release the connection in ``finally:``, then\u001b[39;00m\n\u001b[0;32m    714\u001b[0m \u001b[38;5;66;03m# the response doesn't need to know about the connection. Otherwise\u001b[39;00m\n\u001b[0;32m    715\u001b[0m \u001b[38;5;66;03m# it will also try to release it and we'll have a double-release\u001b[39;00m\n\u001b[0;32m    716\u001b[0m \u001b[38;5;66;03m# mess.\u001b[39;00m\n",
      "File \u001b[1;32mC:\\ProgramData\\Anaconda3\\lib\\site-packages\\urllib3\\connectionpool.py:449\u001b[0m, in \u001b[0;36mHTTPConnectionPool._make_request\u001b[1;34m(self, conn, method, url, timeout, chunked, **httplib_request_kw)\u001b[0m\n\u001b[0;32m    445\u001b[0m         \u001b[38;5;28;01mexcept\u001b[39;00m \u001b[38;5;167;01mBaseException\u001b[39;00m \u001b[38;5;28;01mas\u001b[39;00m e:\n\u001b[0;32m    446\u001b[0m             \u001b[38;5;66;03m# Remove the TypeError from the exception chain in\u001b[39;00m\n\u001b[0;32m    447\u001b[0m             \u001b[38;5;66;03m# Python 3 (including for exceptions like SystemExit).\u001b[39;00m\n\u001b[0;32m    448\u001b[0m             \u001b[38;5;66;03m# Otherwise it looks like a bug in the code.\u001b[39;00m\n\u001b[1;32m--> 449\u001b[0m             \u001b[43msix\u001b[49m\u001b[38;5;241;43m.\u001b[39;49m\u001b[43mraise_from\u001b[49m\u001b[43m(\u001b[49m\u001b[43me\u001b[49m\u001b[43m,\u001b[49m\u001b[43m \u001b[49m\u001b[38;5;28;43;01mNone\u001b[39;49;00m\u001b[43m)\u001b[49m\n\u001b[0;32m    450\u001b[0m \u001b[38;5;28;01mexcept\u001b[39;00m (SocketTimeout, BaseSSLError, SocketError) \u001b[38;5;28;01mas\u001b[39;00m e:\n",
      "File \u001b[1;32m<string>:3\u001b[0m, in \u001b[0;36mraise_from\u001b[1;34m(value, from_value)\u001b[0m\n",
      "File \u001b[1;32mC:\\ProgramData\\Anaconda3\\lib\\site-packages\\urllib3\\connectionpool.py:444\u001b[0m, in \u001b[0;36mHTTPConnectionPool._make_request\u001b[1;34m(self, conn, method, url, timeout, chunked, **httplib_request_kw)\u001b[0m\n\u001b[0;32m    443\u001b[0m \u001b[38;5;28;01mtry\u001b[39;00m:\n\u001b[1;32m--> 444\u001b[0m     httplib_response \u001b[38;5;241m=\u001b[39m \u001b[43mconn\u001b[49m\u001b[38;5;241;43m.\u001b[39;49m\u001b[43mgetresponse\u001b[49m\u001b[43m(\u001b[49m\u001b[43m)\u001b[49m\n\u001b[0;32m    445\u001b[0m \u001b[38;5;28;01mexcept\u001b[39;00m \u001b[38;5;167;01mBaseException\u001b[39;00m \u001b[38;5;28;01mas\u001b[39;00m e:\n\u001b[0;32m    446\u001b[0m     \u001b[38;5;66;03m# Remove the TypeError from the exception chain in\u001b[39;00m\n\u001b[0;32m    447\u001b[0m     \u001b[38;5;66;03m# Python 3 (including for exceptions like SystemExit).\u001b[39;00m\n\u001b[0;32m    448\u001b[0m     \u001b[38;5;66;03m# Otherwise it looks like a bug in the code.\u001b[39;00m\n",
      "File \u001b[1;32mC:\\ProgramData\\Anaconda3\\lib\\http\\client.py:1377\u001b[0m, in \u001b[0;36mHTTPConnection.getresponse\u001b[1;34m(self)\u001b[0m\n\u001b[0;32m   1376\u001b[0m \u001b[38;5;28;01mtry\u001b[39;00m:\n\u001b[1;32m-> 1377\u001b[0m     \u001b[43mresponse\u001b[49m\u001b[38;5;241;43m.\u001b[39;49m\u001b[43mbegin\u001b[49m\u001b[43m(\u001b[49m\u001b[43m)\u001b[49m\n\u001b[0;32m   1378\u001b[0m \u001b[38;5;28;01mexcept\u001b[39;00m \u001b[38;5;167;01mConnectionError\u001b[39;00m:\n",
      "File \u001b[1;32mC:\\ProgramData\\Anaconda3\\lib\\http\\client.py:320\u001b[0m, in \u001b[0;36mHTTPResponse.begin\u001b[1;34m(self)\u001b[0m\n\u001b[0;32m    319\u001b[0m \u001b[38;5;28;01mwhile\u001b[39;00m \u001b[38;5;28;01mTrue\u001b[39;00m:\n\u001b[1;32m--> 320\u001b[0m     version, status, reason \u001b[38;5;241m=\u001b[39m \u001b[38;5;28;43mself\u001b[39;49m\u001b[38;5;241;43m.\u001b[39;49m\u001b[43m_read_status\u001b[49m\u001b[43m(\u001b[49m\u001b[43m)\u001b[49m\n\u001b[0;32m    321\u001b[0m     \u001b[38;5;28;01mif\u001b[39;00m status \u001b[38;5;241m!=\u001b[39m CONTINUE:\n",
      "File \u001b[1;32mC:\\ProgramData\\Anaconda3\\lib\\http\\client.py:289\u001b[0m, in \u001b[0;36mHTTPResponse._read_status\u001b[1;34m(self)\u001b[0m\n\u001b[0;32m    286\u001b[0m \u001b[38;5;28;01mif\u001b[39;00m \u001b[38;5;129;01mnot\u001b[39;00m line:\n\u001b[0;32m    287\u001b[0m     \u001b[38;5;66;03m# Presumably, the server closed the connection before\u001b[39;00m\n\u001b[0;32m    288\u001b[0m     \u001b[38;5;66;03m# sending a valid response.\u001b[39;00m\n\u001b[1;32m--> 289\u001b[0m     \u001b[38;5;28;01mraise\u001b[39;00m RemoteDisconnected(\u001b[38;5;124m\"\u001b[39m\u001b[38;5;124mRemote end closed connection without\u001b[39m\u001b[38;5;124m\"\u001b[39m\n\u001b[0;32m    290\u001b[0m                              \u001b[38;5;124m\"\u001b[39m\u001b[38;5;124m response\u001b[39m\u001b[38;5;124m\"\u001b[39m)\n\u001b[0;32m    291\u001b[0m \u001b[38;5;28;01mtry\u001b[39;00m:\n",
      "\u001b[1;31mProtocolError\u001b[0m: ('Connection aborted.', RemoteDisconnected('Remote end closed connection without response'))",
      "\nDuring handling of the above exception, another exception occurred:\n",
      "\u001b[1;31mConnectionError\u001b[0m                           Traceback (most recent call last)",
      "File \u001b[1;32m~\\AppData\\Roaming\\Python\\Python39\\site-packages\\chart_studio\\api\\v2\\utils.py:172\u001b[0m, in \u001b[0;36mrequest\u001b[1;34m(method, url, **kwargs)\u001b[0m\n\u001b[0;32m    171\u001b[0m \u001b[38;5;28;01mtry\u001b[39;00m:\n\u001b[1;32m--> 172\u001b[0m     response \u001b[38;5;241m=\u001b[39m requests\u001b[38;5;241m.\u001b[39mrequest(method, url, \u001b[38;5;241m*\u001b[39m\u001b[38;5;241m*\u001b[39mkwargs)\n\u001b[0;32m    173\u001b[0m \u001b[38;5;28;01mexcept\u001b[39;00m RequestException \u001b[38;5;28;01mas\u001b[39;00m e:\n\u001b[0;32m    174\u001b[0m     \u001b[38;5;66;03m# The message can be an exception. E.g., MaxRetryError.\u001b[39;00m\n",
      "File \u001b[1;32mC:\\ProgramData\\Anaconda3\\lib\\site-packages\\requests\\api.py:61\u001b[0m, in \u001b[0;36mrequest\u001b[1;34m(method, url, **kwargs)\u001b[0m\n\u001b[0;32m     60\u001b[0m \u001b[38;5;28;01mwith\u001b[39;00m sessions\u001b[38;5;241m.\u001b[39mSession() \u001b[38;5;28;01mas\u001b[39;00m session:\n\u001b[1;32m---> 61\u001b[0m     \u001b[38;5;28;01mreturn\u001b[39;00m session\u001b[38;5;241m.\u001b[39mrequest(method\u001b[38;5;241m=\u001b[39mmethod, url\u001b[38;5;241m=\u001b[39murl, \u001b[38;5;241m*\u001b[39m\u001b[38;5;241m*\u001b[39mkwargs)\n",
      "File \u001b[1;32mC:\\ProgramData\\Anaconda3\\lib\\site-packages\\requests\\sessions.py:529\u001b[0m, in \u001b[0;36mSession.request\u001b[1;34m(self, method, url, params, data, headers, cookies, files, auth, timeout, allow_redirects, proxies, hooks, stream, verify, cert, json)\u001b[0m\n\u001b[0;32m    528\u001b[0m send_kwargs\u001b[38;5;241m.\u001b[39mupdate(settings)\n\u001b[1;32m--> 529\u001b[0m resp \u001b[38;5;241m=\u001b[39m \u001b[38;5;28mself\u001b[39m\u001b[38;5;241m.\u001b[39msend(prep, \u001b[38;5;241m*\u001b[39m\u001b[38;5;241m*\u001b[39msend_kwargs)\n\u001b[0;32m    531\u001b[0m \u001b[38;5;28;01mreturn\u001b[39;00m resp\n",
      "File \u001b[1;32mC:\\ProgramData\\Anaconda3\\lib\\site-packages\\requests\\sessions.py:645\u001b[0m, in \u001b[0;36mSession.send\u001b[1;34m(self, request, **kwargs)\u001b[0m\n\u001b[0;32m    644\u001b[0m \u001b[38;5;66;03m# Send the request\u001b[39;00m\n\u001b[1;32m--> 645\u001b[0m r \u001b[38;5;241m=\u001b[39m adapter\u001b[38;5;241m.\u001b[39msend(request, \u001b[38;5;241m*\u001b[39m\u001b[38;5;241m*\u001b[39mkwargs)\n\u001b[0;32m    647\u001b[0m \u001b[38;5;66;03m# Total elapsed time of the request (approximately)\u001b[39;00m\n",
      "File \u001b[1;32mC:\\ProgramData\\Anaconda3\\lib\\site-packages\\requests\\adapters.py:501\u001b[0m, in \u001b[0;36mHTTPAdapter.send\u001b[1;34m(self, request, stream, timeout, verify, cert, proxies)\u001b[0m\n\u001b[0;32m    500\u001b[0m \u001b[38;5;28;01mexcept\u001b[39;00m (ProtocolError, socket\u001b[38;5;241m.\u001b[39merror) \u001b[38;5;28;01mas\u001b[39;00m err:\n\u001b[1;32m--> 501\u001b[0m     \u001b[38;5;28;01mraise\u001b[39;00m \u001b[38;5;167;01mConnectionError\u001b[39;00m(err, request\u001b[38;5;241m=\u001b[39mrequest)\n\u001b[0;32m    503\u001b[0m \u001b[38;5;28;01mexcept\u001b[39;00m MaxRetryError \u001b[38;5;28;01mas\u001b[39;00m e:\n",
      "\u001b[1;31mConnectionError\u001b[0m: ('Connection aborted.', RemoteDisconnected('Remote end closed connection without response'))",
      "\nDuring handling of the above exception, another exception occurred:\n",
      "\u001b[1;31mPlotlyRequestError\u001b[0m                        Traceback (most recent call last)",
      "File \u001b[1;32m~\\AppData\\Roaming\\Python\\Python39\\site-packages\\chart_studio\\plotly\\plotly.py:1463\u001b[0m, in \u001b[0;36m_create_or_update\u001b[1;34m(data, filetype)\u001b[0m\n\u001b[0;32m   1462\u001b[0m \u001b[38;5;28;01mtry\u001b[39;00m:\n\u001b[1;32m-> 1463\u001b[0m     lookup_res \u001b[38;5;241m=\u001b[39m \u001b[43mv2\u001b[49m\u001b[38;5;241;43m.\u001b[39;49m\u001b[43mfiles\u001b[49m\u001b[38;5;241;43m.\u001b[39;49m\u001b[43mlookup\u001b[49m\u001b[43m(\u001b[49m\u001b[43mfilename\u001b[49m\u001b[43m)\u001b[49m\n\u001b[0;32m   1464\u001b[0m     \u001b[38;5;28;01mif\u001b[39;00m \u001b[38;5;28misinstance\u001b[39m(lookup_res\u001b[38;5;241m.\u001b[39mcontent, \u001b[38;5;28mbytes\u001b[39m):\n",
      "File \u001b[1;32m~\\AppData\\Roaming\\Python\\Python39\\site-packages\\chart_studio\\api\\v2\\files.py:85\u001b[0m, in \u001b[0;36mlookup\u001b[1;34m(path, parent, user, exists)\u001b[0m\n\u001b[0;32m     84\u001b[0m params \u001b[38;5;241m=\u001b[39m make_params(path\u001b[38;5;241m=\u001b[39mpath, parent\u001b[38;5;241m=\u001b[39mparent, user\u001b[38;5;241m=\u001b[39muser, exists\u001b[38;5;241m=\u001b[39mexists)\n\u001b[1;32m---> 85\u001b[0m \u001b[38;5;28;01mreturn\u001b[39;00m \u001b[43mrequest\u001b[49m\u001b[43m(\u001b[49m\u001b[38;5;124;43m\"\u001b[39;49m\u001b[38;5;124;43mget\u001b[39;49m\u001b[38;5;124;43m\"\u001b[39;49m\u001b[43m,\u001b[49m\u001b[43m \u001b[49m\u001b[43murl\u001b[49m\u001b[43m,\u001b[49m\u001b[43m \u001b[49m\u001b[43mparams\u001b[49m\u001b[38;5;241;43m=\u001b[39;49m\u001b[43mparams\u001b[49m\u001b[43m)\u001b[49m\n",
      "File \u001b[1;32m~\\AppData\\Roaming\\Python\\Python39\\site-packages\\retrying.py:56\u001b[0m, in \u001b[0;36mretry.<locals>.wrap.<locals>.wrapped_f\u001b[1;34m(*args, **kw)\u001b[0m\n\u001b[0;32m     54\u001b[0m \u001b[38;5;129m@six\u001b[39m\u001b[38;5;241m.\u001b[39mwraps(f)\n\u001b[0;32m     55\u001b[0m \u001b[38;5;28;01mdef\u001b[39;00m \u001b[38;5;21mwrapped_f\u001b[39m(\u001b[38;5;241m*\u001b[39margs, \u001b[38;5;241m*\u001b[39m\u001b[38;5;241m*\u001b[39mkw):\n\u001b[1;32m---> 56\u001b[0m     \u001b[38;5;28;01mreturn\u001b[39;00m Retrying(\u001b[38;5;241m*\u001b[39mdargs, \u001b[38;5;241m*\u001b[39m\u001b[38;5;241m*\u001b[39mdkw)\u001b[38;5;241m.\u001b[39mcall(f, \u001b[38;5;241m*\u001b[39margs, \u001b[38;5;241m*\u001b[39m\u001b[38;5;241m*\u001b[39mkw)\n",
      "File \u001b[1;32m~\\AppData\\Roaming\\Python\\Python39\\site-packages\\retrying.py:257\u001b[0m, in \u001b[0;36mRetrying.call\u001b[1;34m(self, fn, *args, **kwargs)\u001b[0m\n\u001b[0;32m    256\u001b[0m \u001b[38;5;28;01mif\u001b[39;00m \u001b[38;5;129;01mnot\u001b[39;00m \u001b[38;5;28mself\u001b[39m\u001b[38;5;241m.\u001b[39mshould_reject(attempt):\n\u001b[1;32m--> 257\u001b[0m     \u001b[38;5;28;01mreturn\u001b[39;00m \u001b[43mattempt\u001b[49m\u001b[38;5;241;43m.\u001b[39;49m\u001b[43mget\u001b[49m\u001b[43m(\u001b[49m\u001b[38;5;28;43mself\u001b[39;49m\u001b[38;5;241;43m.\u001b[39;49m\u001b[43m_wrap_exception\u001b[49m\u001b[43m)\u001b[49m\n\u001b[0;32m    259\u001b[0m \u001b[38;5;28;01mif\u001b[39;00m \u001b[38;5;28mself\u001b[39m\u001b[38;5;241m.\u001b[39m_after_attempts:\n",
      "File \u001b[1;32m~\\AppData\\Roaming\\Python\\Python39\\site-packages\\retrying.py:301\u001b[0m, in \u001b[0;36mAttempt.get\u001b[1;34m(self, wrap_exception)\u001b[0m\n\u001b[0;32m    300\u001b[0m     \u001b[38;5;28;01melse\u001b[39;00m:\n\u001b[1;32m--> 301\u001b[0m         \u001b[43msix\u001b[49m\u001b[38;5;241;43m.\u001b[39;49m\u001b[43mreraise\u001b[49m\u001b[43m(\u001b[49m\u001b[38;5;28;43mself\u001b[39;49m\u001b[38;5;241;43m.\u001b[39;49m\u001b[43mvalue\u001b[49m\u001b[43m[\u001b[49m\u001b[38;5;241;43m0\u001b[39;49m\u001b[43m]\u001b[49m\u001b[43m,\u001b[49m\u001b[43m \u001b[49m\u001b[38;5;28;43mself\u001b[39;49m\u001b[38;5;241;43m.\u001b[39;49m\u001b[43mvalue\u001b[49m\u001b[43m[\u001b[49m\u001b[38;5;241;43m1\u001b[39;49m\u001b[43m]\u001b[49m\u001b[43m,\u001b[49m\u001b[43m \u001b[49m\u001b[38;5;28;43mself\u001b[39;49m\u001b[38;5;241;43m.\u001b[39;49m\u001b[43mvalue\u001b[49m\u001b[43m[\u001b[49m\u001b[38;5;241;43m2\u001b[39;49m\u001b[43m]\u001b[49m\u001b[43m)\u001b[49m\n\u001b[0;32m    302\u001b[0m \u001b[38;5;28;01melse\u001b[39;00m:\n",
      "File \u001b[1;32mC:\\ProgramData\\Anaconda3\\lib\\site-packages\\six.py:719\u001b[0m, in \u001b[0;36mreraise\u001b[1;34m(tp, value, tb)\u001b[0m\n\u001b[0;32m    718\u001b[0m         \u001b[38;5;28;01mraise\u001b[39;00m value\u001b[38;5;241m.\u001b[39mwith_traceback(tb)\n\u001b[1;32m--> 719\u001b[0m     \u001b[38;5;28;01mraise\u001b[39;00m value\n\u001b[0;32m    720\u001b[0m \u001b[38;5;28;01mfinally\u001b[39;00m:\n",
      "File \u001b[1;32m~\\AppData\\Roaming\\Python\\Python39\\site-packages\\retrying.py:251\u001b[0m, in \u001b[0;36mRetrying.call\u001b[1;34m(self, fn, *args, **kwargs)\u001b[0m\n\u001b[0;32m    250\u001b[0m \u001b[38;5;28;01mtry\u001b[39;00m:\n\u001b[1;32m--> 251\u001b[0m     attempt \u001b[38;5;241m=\u001b[39m Attempt(fn(\u001b[38;5;241m*\u001b[39margs, \u001b[38;5;241m*\u001b[39m\u001b[38;5;241m*\u001b[39mkwargs), attempt_number, \u001b[38;5;28;01mFalse\u001b[39;00m)\n\u001b[0;32m    252\u001b[0m \u001b[38;5;28;01mexcept\u001b[39;00m:\n",
      "File \u001b[1;32m~\\AppData\\Roaming\\Python\\Python39\\site-packages\\chart_studio\\api\\v2\\utils.py:179\u001b[0m, in \u001b[0;36mrequest\u001b[1;34m(method, url, **kwargs)\u001b[0m\n\u001b[0;32m    178\u001b[0m     content \u001b[38;5;241m=\u001b[39m response\u001b[38;5;241m.\u001b[39mcontent \u001b[38;5;28;01mif\u001b[39;00m response \u001b[38;5;28;01melse\u001b[39;00m \u001b[38;5;124m\"\u001b[39m\u001b[38;5;124mNo content\u001b[39m\u001b[38;5;124m\"\u001b[39m\n\u001b[1;32m--> 179\u001b[0m     \u001b[38;5;28;01mraise\u001b[39;00m exceptions\u001b[38;5;241m.\u001b[39mPlotlyRequestError(message, status_code, content)\n\u001b[0;32m    180\u001b[0m validate_response(response)\n",
      "\u001b[1;31mPlotlyRequestError\u001b[0m: No message",
      "\nDuring handling of the above exception, another exception occurred:\n",
      "\u001b[1;31mPlotlyRequestError\u001b[0m                        Traceback (most recent call last)",
      "Input \u001b[1;32mIn [22]\u001b[0m, in \u001b[0;36m<cell line: 42>\u001b[1;34m()\u001b[0m\n\u001b[0;32m     40\u001b[0m data \u001b[38;5;241m=\u001b[39m [trace_S, trace_A]    \n\u001b[0;32m     41\u001b[0m fig2 \u001b[38;5;241m=\u001b[39m go\u001b[38;5;241m.\u001b[39mFigure(data\u001b[38;5;241m=\u001b[39mdata, layout\u001b[38;5;241m=\u001b[39mlayout)\n\u001b[1;32m---> 42\u001b[0m \u001b[43mpy\u001b[49m\u001b[38;5;241;43m.\u001b[39;49m\u001b[43miplot\u001b[49m\u001b[43m(\u001b[49m\u001b[43mfig2\u001b[49m\u001b[43m,\u001b[49m\u001b[43mfilename\u001b[49m\u001b[38;5;241;43m=\u001b[39;49m\u001b[38;5;124;43m'\u001b[39;49m\u001b[38;5;124;43manalysis2-weekday-msgs\u001b[39;49m\u001b[38;5;124;43m'\u001b[39;49m\u001b[43m)\u001b[49m\n",
      "File \u001b[1;32m~\\AppData\\Roaming\\Python\\Python39\\site-packages\\chart_studio\\plotly\\plotly.py:135\u001b[0m, in \u001b[0;36miplot\u001b[1;34m(figure_or_data, **plot_options)\u001b[0m\n\u001b[0;32m    133\u001b[0m \u001b[38;5;28;01mif\u001b[39;00m \u001b[38;5;124m\"\u001b[39m\u001b[38;5;124mauto_open\u001b[39m\u001b[38;5;124m\"\u001b[39m \u001b[38;5;129;01mnot\u001b[39;00m \u001b[38;5;129;01min\u001b[39;00m plot_options:\n\u001b[0;32m    134\u001b[0m     plot_options[\u001b[38;5;124m\"\u001b[39m\u001b[38;5;124mauto_open\u001b[39m\u001b[38;5;124m\"\u001b[39m] \u001b[38;5;241m=\u001b[39m \u001b[38;5;28;01mFalse\u001b[39;00m\n\u001b[1;32m--> 135\u001b[0m url \u001b[38;5;241m=\u001b[39m plot(figure_or_data, \u001b[38;5;241m*\u001b[39m\u001b[38;5;241m*\u001b[39mplot_options)\n\u001b[0;32m    137\u001b[0m \u001b[38;5;28;01mif\u001b[39;00m \u001b[38;5;28misinstance\u001b[39m(figure_or_data, \u001b[38;5;28mdict\u001b[39m):\n\u001b[0;32m    138\u001b[0m     layout \u001b[38;5;241m=\u001b[39m figure_or_data\u001b[38;5;241m.\u001b[39mget(\u001b[38;5;124m\"\u001b[39m\u001b[38;5;124mlayout\u001b[39m\u001b[38;5;124m\"\u001b[39m, {})\n",
      "File \u001b[1;32m~\\AppData\\Roaming\\Python\\Python39\\site-packages\\chart_studio\\plotly\\plotly.py:286\u001b[0m, in \u001b[0;36mplot\u001b[1;34m(figure_or_data, validate, **plot_options)\u001b[0m\n\u001b[0;32m    283\u001b[0m     _set_grid_column_references(figure, grid)\n\u001b[0;32m    284\u001b[0m     payload[\u001b[38;5;124m\"\u001b[39m\u001b[38;5;124mfigure\u001b[39m\u001b[38;5;124m\"\u001b[39m] \u001b[38;5;241m=\u001b[39m figure\n\u001b[1;32m--> 286\u001b[0m file_info \u001b[38;5;241m=\u001b[39m \u001b[43m_create_or_update\u001b[49m\u001b[43m(\u001b[49m\u001b[43mpayload\u001b[49m\u001b[43m,\u001b[49m\u001b[43m \u001b[49m\u001b[38;5;124;43m\"\u001b[39;49m\u001b[38;5;124;43mplot\u001b[39;49m\u001b[38;5;124;43m\"\u001b[39;49m\u001b[43m)\u001b[49m\n\u001b[0;32m    288\u001b[0m \u001b[38;5;66;03m# Compute viewing URL\u001b[39;00m\n\u001b[0;32m    289\u001b[0m \u001b[38;5;28;01mif\u001b[39;00m sharing \u001b[38;5;241m==\u001b[39m \u001b[38;5;124m\"\u001b[39m\u001b[38;5;124msecret\u001b[39m\u001b[38;5;124m\"\u001b[39m:\n",
      "File \u001b[1;32m~\\AppData\\Roaming\\Python\\Python39\\site-packages\\chart_studio\\plotly\\plotly.py:1488\u001b[0m, in \u001b[0;36m_create_or_update\u001b[1;34m(data, filetype)\u001b[0m\n\u001b[0;32m   1475\u001b[0m                 \u001b[38;5;28;01mraise\u001b[39;00m _plotly_utils\u001b[38;5;241m.\u001b[39mexceptions\u001b[38;5;241m.\u001b[39mPlotlyError(\n\u001b[0;32m   1476\u001b[0m                     \u001b[38;5;124;03m\"\"\"\u001b[39;00m\n\u001b[0;32m   1477\u001b[0m \u001b[38;5;124;03m'{filename}' is already a {other_filetype} in your account. \u001b[39;00m\n\u001b[1;32m   (...)\u001b[0m\n\u001b[0;32m   1484\u001b[0m                     )\n\u001b[0;32m   1485\u001b[0m                 )\n\u001b[0;32m   1487\u001b[0m         \u001b[38;5;28;01mexcept\u001b[39;00m exceptions\u001b[38;5;241m.\u001b[39mPlotlyRequestError:\n\u001b[1;32m-> 1488\u001b[0m             res \u001b[38;5;241m=\u001b[39m \u001b[43mapi_module\u001b[49m\u001b[38;5;241;43m.\u001b[39;49m\u001b[43mcreate\u001b[49m\u001b[43m(\u001b[49m\u001b[43mdata\u001b[49m\u001b[43m)\u001b[49m\n\u001b[0;32m   1489\u001b[0m     \u001b[38;5;28;01melse\u001b[39;00m:\n\u001b[0;32m   1490\u001b[0m         res \u001b[38;5;241m=\u001b[39m api_module\u001b[38;5;241m.\u001b[39mcreate(data)\n",
      "File \u001b[1;32m~\\AppData\\Roaming\\Python\\Python39\\site-packages\\chart_studio\\api\\v2\\plots.py:18\u001b[0m, in \u001b[0;36mcreate\u001b[1;34m(body)\u001b[0m\n\u001b[0;32m     10\u001b[0m \u001b[38;5;124;03m\"\"\"\u001b[39;00m\n\u001b[0;32m     11\u001b[0m \u001b[38;5;124;03mCreate a new plot.\u001b[39;00m\n\u001b[0;32m     12\u001b[0m \n\u001b[1;32m   (...)\u001b[0m\n\u001b[0;32m     15\u001b[0m \n\u001b[0;32m     16\u001b[0m \u001b[38;5;124;03m\"\"\"\u001b[39;00m\n\u001b[0;32m     17\u001b[0m url \u001b[38;5;241m=\u001b[39m build_url(RESOURCE)\n\u001b[1;32m---> 18\u001b[0m \u001b[38;5;28;01mreturn\u001b[39;00m \u001b[43mrequest\u001b[49m\u001b[43m(\u001b[49m\u001b[38;5;124;43m\"\u001b[39;49m\u001b[38;5;124;43mpost\u001b[39;49m\u001b[38;5;124;43m\"\u001b[39;49m\u001b[43m,\u001b[49m\u001b[43m \u001b[49m\u001b[43murl\u001b[49m\u001b[43m,\u001b[49m\u001b[43m \u001b[49m\u001b[43mjson\u001b[49m\u001b[38;5;241;43m=\u001b[39;49m\u001b[43mbody\u001b[49m\u001b[43m)\u001b[49m\n",
      "File \u001b[1;32m~\\AppData\\Roaming\\Python\\Python39\\site-packages\\retrying.py:56\u001b[0m, in \u001b[0;36mretry.<locals>.wrap.<locals>.wrapped_f\u001b[1;34m(*args, **kw)\u001b[0m\n\u001b[0;32m     54\u001b[0m \u001b[38;5;129m@six\u001b[39m\u001b[38;5;241m.\u001b[39mwraps(f)\n\u001b[0;32m     55\u001b[0m \u001b[38;5;28;01mdef\u001b[39;00m \u001b[38;5;21mwrapped_f\u001b[39m(\u001b[38;5;241m*\u001b[39margs, \u001b[38;5;241m*\u001b[39m\u001b[38;5;241m*\u001b[39mkw):\n\u001b[1;32m---> 56\u001b[0m     \u001b[38;5;28;01mreturn\u001b[39;00m Retrying(\u001b[38;5;241m*\u001b[39mdargs, \u001b[38;5;241m*\u001b[39m\u001b[38;5;241m*\u001b[39mdkw)\u001b[38;5;241m.\u001b[39mcall(f, \u001b[38;5;241m*\u001b[39margs, \u001b[38;5;241m*\u001b[39m\u001b[38;5;241m*\u001b[39mkw)\n",
      "File \u001b[1;32m~\\AppData\\Roaming\\Python\\Python39\\site-packages\\retrying.py:257\u001b[0m, in \u001b[0;36mRetrying.call\u001b[1;34m(self, fn, *args, **kwargs)\u001b[0m\n\u001b[0;32m    254\u001b[0m     attempt \u001b[38;5;241m=\u001b[39m Attempt(tb, attempt_number, \u001b[38;5;28;01mTrue\u001b[39;00m)\n\u001b[0;32m    256\u001b[0m \u001b[38;5;28;01mif\u001b[39;00m \u001b[38;5;129;01mnot\u001b[39;00m \u001b[38;5;28mself\u001b[39m\u001b[38;5;241m.\u001b[39mshould_reject(attempt):\n\u001b[1;32m--> 257\u001b[0m     \u001b[38;5;28;01mreturn\u001b[39;00m \u001b[43mattempt\u001b[49m\u001b[38;5;241;43m.\u001b[39;49m\u001b[43mget\u001b[49m\u001b[43m(\u001b[49m\u001b[38;5;28;43mself\u001b[39;49m\u001b[38;5;241;43m.\u001b[39;49m\u001b[43m_wrap_exception\u001b[49m\u001b[43m)\u001b[49m\n\u001b[0;32m    259\u001b[0m \u001b[38;5;28;01mif\u001b[39;00m \u001b[38;5;28mself\u001b[39m\u001b[38;5;241m.\u001b[39m_after_attempts:\n\u001b[0;32m    260\u001b[0m     \u001b[38;5;28mself\u001b[39m\u001b[38;5;241m.\u001b[39m_after_attempts(attempt_number)\n",
      "File \u001b[1;32m~\\AppData\\Roaming\\Python\\Python39\\site-packages\\retrying.py:301\u001b[0m, in \u001b[0;36mAttempt.get\u001b[1;34m(self, wrap_exception)\u001b[0m\n\u001b[0;32m    299\u001b[0m         \u001b[38;5;28;01mraise\u001b[39;00m RetryError(\u001b[38;5;28mself\u001b[39m)\n\u001b[0;32m    300\u001b[0m     \u001b[38;5;28;01melse\u001b[39;00m:\n\u001b[1;32m--> 301\u001b[0m         \u001b[43msix\u001b[49m\u001b[38;5;241;43m.\u001b[39;49m\u001b[43mreraise\u001b[49m\u001b[43m(\u001b[49m\u001b[38;5;28;43mself\u001b[39;49m\u001b[38;5;241;43m.\u001b[39;49m\u001b[43mvalue\u001b[49m\u001b[43m[\u001b[49m\u001b[38;5;241;43m0\u001b[39;49m\u001b[43m]\u001b[49m\u001b[43m,\u001b[49m\u001b[43m \u001b[49m\u001b[38;5;28;43mself\u001b[39;49m\u001b[38;5;241;43m.\u001b[39;49m\u001b[43mvalue\u001b[49m\u001b[43m[\u001b[49m\u001b[38;5;241;43m1\u001b[39;49m\u001b[43m]\u001b[49m\u001b[43m,\u001b[49m\u001b[43m \u001b[49m\u001b[38;5;28;43mself\u001b[39;49m\u001b[38;5;241;43m.\u001b[39;49m\u001b[43mvalue\u001b[49m\u001b[43m[\u001b[49m\u001b[38;5;241;43m2\u001b[39;49m\u001b[43m]\u001b[49m\u001b[43m)\u001b[49m\n\u001b[0;32m    302\u001b[0m \u001b[38;5;28;01melse\u001b[39;00m:\n\u001b[0;32m    303\u001b[0m     \u001b[38;5;28;01mreturn\u001b[39;00m \u001b[38;5;28mself\u001b[39m\u001b[38;5;241m.\u001b[39mvalue\n",
      "File \u001b[1;32mC:\\ProgramData\\Anaconda3\\lib\\site-packages\\six.py:719\u001b[0m, in \u001b[0;36mreraise\u001b[1;34m(tp, value, tb)\u001b[0m\n\u001b[0;32m    717\u001b[0m     \u001b[38;5;28;01mif\u001b[39;00m value\u001b[38;5;241m.\u001b[39m__traceback__ \u001b[38;5;129;01mis\u001b[39;00m \u001b[38;5;129;01mnot\u001b[39;00m tb:\n\u001b[0;32m    718\u001b[0m         \u001b[38;5;28;01mraise\u001b[39;00m value\u001b[38;5;241m.\u001b[39mwith_traceback(tb)\n\u001b[1;32m--> 719\u001b[0m     \u001b[38;5;28;01mraise\u001b[39;00m value\n\u001b[0;32m    720\u001b[0m \u001b[38;5;28;01mfinally\u001b[39;00m:\n\u001b[0;32m    721\u001b[0m     value \u001b[38;5;241m=\u001b[39m \u001b[38;5;28;01mNone\u001b[39;00m\n",
      "File \u001b[1;32m~\\AppData\\Roaming\\Python\\Python39\\site-packages\\retrying.py:251\u001b[0m, in \u001b[0;36mRetrying.call\u001b[1;34m(self, fn, *args, **kwargs)\u001b[0m\n\u001b[0;32m    248\u001b[0m     \u001b[38;5;28mself\u001b[39m\u001b[38;5;241m.\u001b[39m_before_attempts(attempt_number)\n\u001b[0;32m    250\u001b[0m \u001b[38;5;28;01mtry\u001b[39;00m:\n\u001b[1;32m--> 251\u001b[0m     attempt \u001b[38;5;241m=\u001b[39m Attempt(fn(\u001b[38;5;241m*\u001b[39margs, \u001b[38;5;241m*\u001b[39m\u001b[38;5;241m*\u001b[39mkwargs), attempt_number, \u001b[38;5;28;01mFalse\u001b[39;00m)\n\u001b[0;32m    252\u001b[0m \u001b[38;5;28;01mexcept\u001b[39;00m:\n\u001b[0;32m    253\u001b[0m     tb \u001b[38;5;241m=\u001b[39m sys\u001b[38;5;241m.\u001b[39mexc_info()\n",
      "File \u001b[1;32m~\\AppData\\Roaming\\Python\\Python39\\site-packages\\chart_studio\\api\\v2\\utils.py:180\u001b[0m, in \u001b[0;36mrequest\u001b[1;34m(method, url, **kwargs)\u001b[0m\n\u001b[0;32m    178\u001b[0m     content \u001b[38;5;241m=\u001b[39m response\u001b[38;5;241m.\u001b[39mcontent \u001b[38;5;28;01mif\u001b[39;00m response \u001b[38;5;28;01melse\u001b[39;00m \u001b[38;5;124m\"\u001b[39m\u001b[38;5;124mNo content\u001b[39m\u001b[38;5;124m\"\u001b[39m\n\u001b[0;32m    179\u001b[0m     \u001b[38;5;28;01mraise\u001b[39;00m exceptions\u001b[38;5;241m.\u001b[39mPlotlyRequestError(message, status_code, content)\n\u001b[1;32m--> 180\u001b[0m \u001b[43mvalidate_response\u001b[49m\u001b[43m(\u001b[49m\u001b[43mresponse\u001b[49m\u001b[43m)\u001b[49m\n\u001b[0;32m    181\u001b[0m \u001b[38;5;28;01mreturn\u001b[39;00m response\n",
      "File \u001b[1;32m~\\AppData\\Roaming\\Python\\Python39\\site-packages\\chart_studio\\api\\v2\\utils.py:82\u001b[0m, in \u001b[0;36mvalidate_response\u001b[1;34m(response)\u001b[0m\n\u001b[0;32m     79\u001b[0m \u001b[38;5;28;01mif\u001b[39;00m \u001b[38;5;129;01mnot\u001b[39;00m message:\n\u001b[0;32m     80\u001b[0m     message \u001b[38;5;241m=\u001b[39m content \u001b[38;5;28;01mif\u001b[39;00m content \u001b[38;5;28;01melse\u001b[39;00m \u001b[38;5;124m\"\u001b[39m\u001b[38;5;124mNo Content\u001b[39m\u001b[38;5;124m\"\u001b[39m\n\u001b[1;32m---> 82\u001b[0m \u001b[38;5;28;01mraise\u001b[39;00m exceptions\u001b[38;5;241m.\u001b[39mPlotlyRequestError(message, status_code, content)\n",
      "\u001b[1;31mPlotlyRequestError\u001b[0m: Sorry, a file named 'analysis2-weekday-msgs' already exists"
     ]
    }
   ],
   "source": [
    "# plotting:\n",
    "x = shaz_weekly[shaz_weekly['Name']=='Alex Klaus:'].weekday_w.tolist()\n",
    "y_A= shaz_weekly[shaz_weekly['Name']=='Alex Klaus:'].Text.tolist()\n",
    "y_S= shaz_weekly[shaz_weekly['Name']=='Shaz Kandie:'].Text.tolist()\n",
    "\n",
    "trace_A = go.Box(\n",
    "    y=y_A,\n",
    "    x=shaz_weekly[shaz_weekly['Name']=='Alex Klaus:'].weekday_w.tolist(),\n",
    "    name='by Klaus',\n",
    "    marker = dict(\n",
    "            color = 'rgb(221,46,107)',\n",
    "            outliercolor = 'rgba(224, 35, 79, 0.6)',\n",
    "            line = dict(\n",
    "                outliercolor = 'rgba(224, 35, 79, 0.6)',\n",
    "                outlierwidth = 2)),\n",
    ")\n",
    "    \n",
    "trace_S = go.Box(\n",
    "    y=y_S,\n",
    "    x=shaz_weekly[shaz_weekly['Name']=='Shaz Kandie:'].weekday_w.tolist(),\n",
    "    name='by Shaz',\n",
    "    marker=dict(\n",
    "        color = 'rgb(0,102,153)',\n",
    "        outliercolor = 'rgba(0, 73, 153, 0.6)',\n",
    "        line = dict(\n",
    "                outliercolor = 'rgba(0, 73, 153, 0.6)',\n",
    "                outlierwidth = 2)\n",
    "        )\n",
    ")\n",
    "    \n",
    "layout = go.Layout(\n",
    "    title='Weekly Messages Breakdown',\n",
    "    yaxis=dict(\n",
    "        zeroline=False,\n",
    "        title='Distinct Messages Sent'\n",
    "    ),\n",
    "    boxmode='group'\n",
    ")\n",
    "\n",
    "data = [trace_S, trace_A]    \n",
    "fig2 = go.Figure(data=data, layout=layout)\n",
    "py.iplot(fig2,filename='analysis2-weekday-msgs')\n",
    "\n"
   ]
  },
  {
   "cell_type": "code",
   "execution_count": null,
   "id": "fa46a007",
   "metadata": {
    "scrolled": true
   },
   "outputs": [],
   "source": [
    "## time of day analysis:\n",
    "tot_days = max(shaz.Date_Time.dt.date)-min(shaz.Date_Time.dt.date)\n",
    "shaz_time_day = shaz.groupby([shaz['Date_Time'].dt.hour,'Name']).Text.count().reset_index()\n",
    "shaz_time_day['avg_mgs_hr'] = shaz_time_day.Text/1656\n"
   ]
  },
  {
   "cell_type": "code",
   "execution_count": null,
   "id": "3ad45045",
   "metadata": {},
   "outputs": [],
   "source": [
    "shaz_time_day"
   ]
  },
  {
   "cell_type": "code",
   "execution_count": null,
   "id": "71c72a1b",
   "metadata": {},
   "outputs": [],
   "source": [
    "#PLOTTING\n",
    "A_daytime = np.array(shaz_time_day[shaz_time_day['Name']=='Alex Klaus:'].avg_mgs_hr)\n",
    "S_daytime = np.array(shaz_time_day[shaz_time_day['Name']=='Shaz Kandie:'].avg_mgs_hr)"
   ]
  },
  {
   "cell_type": "code",
   "execution_count": null,
   "id": "d07ffb8e",
   "metadata": {},
   "outputs": [],
   "source": [
    "# Create an empty array with shape (21,1) \n",
    "c = np.empty((22, 1))"
   ]
  },
  {
   "cell_type": "code",
   "execution_count": null,
   "id": "bf512f01",
   "metadata": {},
   "outputs": [],
   "source": [
    "#Resize The array A_daytime to enable arithmetic with S_daytime\n",
    "A= np.resize(A_daytime, (21,))"
   ]
  },
  {
   "cell_type": "code",
   "execution_count": null,
   "id": "1b88dfbe",
   "metadata": {},
   "outputs": [],
   "source": [
    "# plot the histogram based on the total counts; \n",
    "# on it plot the daily average\n",
    "diff = S_daytime-A\n",
    "\n",
    "trace1 = go.Bar(\n",
    "    x=shaz_time_day[shaz_time_day['Name']=='Alex Klaus:'].Date_Time,\n",
    "    y=shaz_time_day[shaz_time_day['Name']=='Alex Klaus:'].avg_mgs_hr,\n",
    "    name='by Klaus',\n",
    "    marker=dict(\n",
    "        color = 'rgb(221,46,107)'\n",
    "        )\n",
    ")\n",
    "trace2 = go.Bar(\n",
    "    x=shaz_time_day[shaz_time_day['Name']=='Shaz Kandie:'].Date_Time,\n",
    "    y=shaz_time_day[shaz_time_day['Name']=='Shaz Kandie:'].avg_mgs_hr,\n",
    "    name='by Shaz',\n",
    "    marker=dict(\n",
    "        color='rgb(0,102,153)',\n",
    "        )\n",
    ")\n",
    "trace3 = go.Bar(\n",
    "    x=shaz_time_day[shaz_time_day['Name']=='Shaz Kandie:'].Date_Time,\n",
    "    y=diff,\n",
    "    name='difference',\n",
    "    marker=dict(\n",
    "        color='rgb(244,130,24)',\n",
    "        )\n",
    ")\n",
    "\n",
    "data = [trace1, trace2,trace3]\n",
    "layout = go.Layout(\n",
    "    title='Average Hourly Messages',\n",
    "    xaxis = dict(title='Time of Day'),\n",
    "    yaxis = dict(title='Average No. of Messages'),\n",
    "    legend = dict(orientation=\"h\"),\n",
    "    barmode='group'\n",
    ")\n",
    "\n",
    "fig = go.Figure(data=data, layout=layout)\n",
    "py.iplot(fig, filename='analysis2-avg-per-hour')\n"
   ]
  },
  {
   "cell_type": "code",
   "execution_count": null,
   "id": "c3d7c2b2",
   "metadata": {},
   "outputs": [],
   "source": [
    "shaz_no_media"
   ]
  },
  {
   "cell_type": "code",
   "execution_count": null,
   "id": "f4c82fa2",
   "metadata": {},
   "outputs": [],
   "source": [
    "# looking at the differences in time\n",
    "## whos the initiator?\n",
    "# find the first messages of each day (after 6am)\n",
    "# removing anything before 6am:\n",
    "shaz_6_am = shaz_no_media[shaz_no_media['Date_Time'].dt.hour > 5]\n"
   ]
  },
  {
   "cell_type": "code",
   "execution_count": null,
   "id": "af97a39c",
   "metadata": {},
   "outputs": [],
   "source": [
    "A_daytime"
   ]
  },
  {
   "cell_type": "code",
   "execution_count": null,
   "id": "df163354",
   "metadata": {},
   "outputs": [],
   "source": [
    "S_daytime"
   ]
  },
  {
   "cell_type": "code",
   "execution_count": null,
   "id": "a42fd42a",
   "metadata": {},
   "outputs": [],
   "source": [
    "# finding the first messages of each day:\n",
    "shaz_firsts = shaz_6_am.groupby(shaz['Date_Time'].dt.date).apply(lambda x: x.iloc[[0]])\n"
   ]
  },
  {
   "cell_type": "code",
   "execution_count": null,
   "id": "9b8b4a85",
   "metadata": {},
   "outputs": [],
   "source": [
    "# plotting:\n",
    "#1 plot the count of first messages (separate curve pp), group by hour of day, show the timeline\n",
    "shaz_firsts = shaz_firsts.rename(index=str, columns={\"Date_Time\": \"time1\"}).reset_index()\n",
    "shaz_firsts['hour'] = shaz_firsts.time1.dt.hour\n",
    "#shaz_firsts = shaz_firsts.groupby([shaz_firsts['time1'].dt.hour,'sender']).count()\n",
    "#shaz_firsts = shaz_firsts.drop(columns=['Date_Time','time1']).reset_index()"
   ]
  },
  {
   "cell_type": "code",
   "execution_count": null,
   "id": "d7975ca9",
   "metadata": {},
   "outputs": [],
   "source": [
    "\n",
    "trace1 = go.Histogram(\n",
    "    x=shaz_firsts[shaz_firsts.Name=='Alex Klaus:'].hour,\n",
    "    name='by Klaus',\n",
    "    opacity=0.75,\n",
    "    xbins=dict(\n",
    "        start=6.0,\n",
    "        end=24.0,\n",
    "        size=1\n",
    "    ),\n",
    "    marker=dict(\n",
    "        color='rgb(221,46,107)',\n",
    "        )\n",
    ")\n",
    "trace2 = go.Histogram(\n",
    "    x=shaz_firsts[shaz_firsts.Name=='Shaz Kandie:'].hour,\n",
    "    name='by Shaz',\n",
    "    opacity=0.75,\n",
    "    xbins=dict(\n",
    "        start=6.0,\n",
    "        end=24.0,\n",
    "        size=1\n",
    "    ),\n",
    "    marker=dict(\n",
    "        color='rgb(0,102,153)',\n",
    "        )\n",
    ")\n",
    "\n",
    "data = [trace2, trace1]\n",
    "layout = go.Layout(\n",
    "        barmode='overlay',\n",
    "        title='First Messages of the Day',\n",
    "        xaxis = dict(title='Time of Day'),\n",
    "        yaxis = dict(title = 'Distinct Messages'),\n",
    "        legend = dict(orientation=\"h\"),\n",
    "    )\n",
    "fig = go.Figure(data=data, layout=layout)\n",
    "\n",
    "py.iplot(fig, filename='analysis2-first-msg-dist')\n",
    "\n"
   ]
  },
  {
   "cell_type": "code",
   "execution_count": null,
   "id": "d24beaf5",
   "metadata": {},
   "outputs": [],
   "source": [
    "# 1.5 plotting number of initiations each month (sum on hour, in group by month)\n",
    "shaz_firsts.Date_Time = pd.to_datetime(shaz_firsts['Date_Time'])\n",
    "shaz_timeline_init = shaz_firsts.groupby(['Name', shaz_firsts.Date_Time.dt.year, shaz_firsts.time1.dt.month,'Text']).sum().reset_index()\n",
    "from datetime import datetime\n",
    "shaz_timeline_init['Date'] = shaz_timeline_init.apply(lambda row: datetime(row['Date_Time'], row['time1'], 1), axis=1)\n"
   ]
  },
  {
   "cell_type": "code",
   "execution_count": null,
   "id": "dc0391f5",
   "metadata": {},
   "outputs": [],
   "source": [
    "shaz_timeline_init"
   ]
  },
  {
   "cell_type": "code",
   "execution_count": null,
   "id": "a57c6298",
   "metadata": {},
   "outputs": [],
   "source": [
    "Alex_Text = shaz_timeline_init[shaz_timeline_init.Name == 'Alex Klaus:'].Text.count()\n",
    "Shaz_Text = shaz_timeline_init[shaz_timeline_init.Name == 'Shaz Kandie:'].Text.count()\n",
    "print('Alex text count is ',Alex_Text,' and ','Shaz text count is ',Shaz_Text)"
   ]
  },
  {
   "cell_type": "code",
   "execution_count": null,
   "id": "088a14af",
   "metadata": {},
   "outputs": [],
   "source": [
    "traceG1 = go.Scatter(\n",
    "        x = list(shaz_timeline_init[shaz_timeline_init['Name']=='Alex Klaus:'].Date),\n",
    "        y = list(shaz_timeline_init[shaz_timeline_init['Name']=='Alex Klaus:'].hour),\n",
    "        mode = 'lines',\n",
    "        name = 'by Klaus',\n",
    "        marker = dict(\n",
    "                color = 'rgb(221,46,107)'\n",
    "                )\n",
    "        )\n",
    "\n",
    "traceO1 = go.Scatter(\n",
    "        x = list(shaz_timeline_init[shaz_timeline_init['Name']=='Shaz Kandie:'].Date),\n",
    "        y = list(shaz_timeline_init[shaz_timeline_init['Name']=='Shaz Kandie:'].hour),\n",
    "        mode = 'lines',\n",
    "        name = 'by Shaz',\n",
    "        marker = dict(\n",
    "                color = 'rgb(0,102,153)'\n",
    "                )\n",
    "        )\n",
    "\n",
    "data = [traceO1, traceG1]\n",
    "layout = go.Layout(\n",
    "        title='Initiative Throughout Time',\n",
    "        xaxis = dict(title = 'Month and Year'),\n",
    "        yaxis = dict(title = 'Count of days of initiated conversation'),\n",
    "        legend = dict(orientation=\"h\"),\n",
    "    )\n",
    "\n",
    "fig = dict(data=data, layout=layout)\n",
    "py.iplot(fig, filename='analysis2-initiative-trends')\n"
   ]
  },
  {
   "cell_type": "code",
   "execution_count": null,
   "id": "d7cbfe60",
   "metadata": {},
   "outputs": [],
   "source": [
    "# cleaning stop words from relevant df:\n",
    "shaz_firsts[\"Text\"] = shaz_firsts[\"Text\"].str.lower().str.split()"
   ]
  },
  {
   "cell_type": "code",
   "execution_count": null,
   "id": "738f74a7",
   "metadata": {},
   "outputs": [],
   "source": [
    "import nltk\n",
    "nltk.download('stopwords')"
   ]
  },
  {
   "cell_type": "code",
   "execution_count": null,
   "id": "1a8557e0",
   "metadata": {},
   "outputs": [],
   "source": [
    "stop_words_swahili  = [\"hata\", \"kama\", \"na\", \"kwa\", \"kutoka\", \"kuwa\", \"sana\", \"hivyo\", \"mimi\", \"yako\", \"wengine\", \"hivi\", \"kwa\", \"kwamba\", \"kwenda\", \"kutokea\", \"kutwa\", \"kuja\", \"ya\", \"kwenye\", \"ambayo\", \"lakini\", \"kila\", \"hii\", \"haya\", \"sio\", \"kweli\", \"nini\", \"basi\", \"bila\", \"kutokana\", \"mara\", \"muda\", \"mwezi\", \"ndani\", \"ni\", \"pamoja\", \"pia\", \"sana\", \"tangu\", \"vile\", \"vipi\", \"wao\", \"watu\", \"wengine\", \"wiki\", \"wote\"]\n",
    "shs = ['wamlambez','baby','heeey', 'jana usiku', 'tafala', 'nini', 'gwara', 'majezi', 'bibi', 'mwizi', 'mafisi', 'vibaya', 'tamu', 'kwaheri', 'wivu', 'tupu', 'chali', 'staki', 'mchongoano', 'tulizana', 'sisi', 'hii', 'mchezo', 'kuja', 'juu', 'unajua', 'tumbo', 'kamili', 'wacha', 'kikombe', 'cheza', 'choma', 'makofi', 'kula', 'kiasi', 'hakuna', 'hapa', 'sawa', 'sana', 'macho', 'safi', 'bado', 'mzito']\n",
    "stop = stopwords.words('english')\n",
    "stop.extend(stop_words_swahili+shs)"
   ]
  },
  {
   "cell_type": "code",
   "execution_count": null,
   "id": "5c24045a",
   "metadata": {},
   "outputs": [],
   "source": [
    "ax1 = plt.subplot(121)"
   ]
  },
  {
   "cell_type": "code",
   "execution_count": null,
   "id": "f3963ac8",
   "metadata": {},
   "outputs": [],
   "source": [
    "# creating word cloud for Shaz:\n",
    "text_shaz = shaz_firsts[shaz_firsts.Name=='Shaz Kandie:']['Text']\n",
    "text_shaz = ' '.join([str(item) for item in text_shaz])\n",
    "wordcloud_shaz = WordCloud(colormap='autumn',relative_scaling = 0.69, stopwords = stop, max_font_size=50,background_color=\"white\").generate(text_shaz)\n",
    "\n",
    "plt.imshow(wordcloud_shaz, interpolation='bilinear')\n",
    "ax1.set_title('Shaz First Messages')\n",
    "plt.axis(\"off\")\n",
    "plt.show()"
   ]
  },
  {
   "cell_type": "code",
   "execution_count": null,
   "id": "acc0c34e",
   "metadata": {},
   "outputs": [],
   "source": [
    "ax2 = plt.subplot(122)"
   ]
  },
  {
   "cell_type": "code",
   "execution_count": null,
   "id": "520f3a1f",
   "metadata": {},
   "outputs": [],
   "source": [
    "# for Klaus:\n",
    "text_klaus = shaz_firsts[shaz_firsts.Name=='Alex Klaus:']['Text']\n",
    "text_klaus = ' '.join([str(item) for item in text_klaus])\n",
    "wordcloud_klaus = WordCloud(colormap='autumn',relative_scaling = 0.69, stopwords = stop, max_font_size=50,background_color=\"white\").generate(text_klaus)\n",
    "\n",
    "plt.imshow(wordcloud_klaus, interpolation='bilinear')\n",
    "ax2.set_title('Klaus First Messages')\n",
    "plt.axis(\"off\")\n",
    "plt.show()"
   ]
  },
  {
   "cell_type": "code",
   "execution_count": null,
   "id": "7bf3c7ba",
   "metadata": {},
   "outputs": [],
   "source": [
    "## time delay analysis\n",
    "#shaz_delay = pd.concat([shaz, shaz_delay])\n",
    "shaz_delay = pd.DataFrame(columns = shaz.columns)\n",
    "shaz_delay = pd.concat([shaz_delay, shaz], ignore_index = True)"
   ]
  },
  {
   "cell_type": "code",
   "execution_count": null,
   "id": "94c08b61",
   "metadata": {},
   "outputs": [],
   "source": [
    "# filling in a new df with only non-consecutive messages\n",
    "for i in range(0, shaz.shape[0]-1):\n",
    "    if shaz.iloc[i].Name != shaz.iloc[i+1].Name:\n",
    "        shaz_delay = shaz_delay.append(shaz.iloc[i])\n",
    "    #print(i)\n"
   ]
  },
  {
   "cell_type": "code",
   "execution_count": null,
   "id": "1dd6c881",
   "metadata": {},
   "outputs": [],
   "source": [
    "# extracting time differences between all messages:\n",
    "shaz_delay['diff_dt'] = shaz_delay.Date_Time.diff()\n",
    "shaz_delay.drop(shaz_delay.index[0], inplace = True)\n",
    "shaz_delay['diff_m'] = shaz_delay['diff_dt'].dt.total_seconds().div(60).astype(int)"
   ]
  },
  {
   "cell_type": "code",
   "execution_count": null,
   "id": "53e389eb",
   "metadata": {},
   "outputs": [],
   "source": [
    "# keeping only gaps between 0 and 3 hours\n",
    "shaz_delay = shaz_delay[shaz_delay.diff_m < 180]\n",
    "shaz_delay = shaz_delay[shaz_delay.diff_m >= 0]\n"
   ]
  },
  {
   "cell_type": "code",
   "execution_count": null,
   "id": "e0ace0ae",
   "metadata": {},
   "outputs": [],
   "source": [
    "# adding day of week:\n",
    "shaz_delay['day'] = shaz_delay.apply (lambda row: label_daysofweek (row),axis=1)\n"
   ]
  },
  {
   "cell_type": "code",
   "execution_count": null,
   "id": "987ce02d",
   "metadata": {},
   "outputs": [],
   "source": [
    "# plotting: violin chart of us one side by side\n",
    "x = shaz_delay['day'].tolist()"
   ]
  },
  {
   "cell_type": "code",
   "execution_count": null,
   "id": "73d2715d",
   "metadata": {},
   "outputs": [],
   "source": [
    "#y_shaz = shaz_delay[shaz_delay['Name']=='Shaz Kandie:'].diff_m.tolist()\n",
    "#y_Klaus = shaz_delay[shaz_delay['Name']=='Alex Klaus:'].diff_m.tolist()\n"
   ]
  },
  {
   "cell_type": "code",
   "execution_count": null,
   "id": "98d03cde",
   "metadata": {},
   "outputs": [],
   "source": [
    "import plotly.figure_factory as ff\n",
    "# FIRST OPTION DISTPLOTS\n",
    "\n",
    "x_Klaus = shaz_delay[shaz_delay['Name']=='Alex Klaus:'].diff_m\n",
    "x_Shaz = shaz_delay[shaz_delay['Name']=='Shaz Kandie:'].diff_m\n",
    "\n",
    "hist_data = [x_Klaus, x_Shaz]\n",
    "group_labels = ['by Klaus', 'by Shaz']\n",
    "\n",
    "colors = ['rgb(221,46,107)', 'rgb(0,102,153)']\n",
    "fig = ff.create_distplot(\n",
    "    hist_data, group_labels, bin_size=2,colors=colors, show_rug=False\n",
    "    )\n",
    "fig['layout'].update(title='Reply Delay Distribution',xaxis=dict(title='Delay [minutes]'))\n",
    "py.iplot(fig,filename='analysis2-msg-delay-dist')\n"
   ]
  },
  {
   "cell_type": "code",
   "execution_count": null,
   "id": "8c370b9d",
   "metadata": {},
   "outputs": [],
   "source": [
    "# SECOND OPTION: HISTOGRAM\n",
    "trace1 = go.Histogram(\n",
    "    x=shaz_delay[shaz_delay['Name']=='Alex Klaus:'].diff_m,\n",
    "    name='by Klaus',\n",
    "    opacity=0.5,\n",
    "    xbins=dict(\n",
    "        start=0.0,\n",
    "        end=180.0,\n",
    "        size=2\n",
    "    ),\n",
    "    marker=dict(\n",
    "            color = 'rgb(221,46,107)'\n",
    "        )\n",
    ")\n",
    "trace2 = go.Histogram(\n",
    "        x=shaz_delay[shaz_delay['Name']=='Shaz Kandie:'].diff_m,\n",
    "        name='by Shaz',\n",
    "        opacity=0.5,\n",
    "        xbins=dict(\n",
    "                start=0.0,\n",
    "                end=180.0,\n",
    "                size=2\n",
    "    ),\n",
    "    marker=dict(\n",
    "        color='rgb(0,102,153)',\n",
    "        )\n",
    ")\n",
    "\n",
    "data = [trace1, trace2]\n",
    "layout = go.Layout(\n",
    "        barmode='overlay',\n",
    "        title='Messages Reply Delay (minutes)',\n",
    "        xaxis = dict(\n",
    "                title= 'Delay [minutes]'\n",
    "                ),\n",
    "        legend = dict(orientation=\"h\"),\n",
    "    )\n",
    "fig = go.Figure(data=data, layout=layout)\n",
    "py.iplot(fig,filename='analysis2-msg-delay-hist')\n"
   ]
  },
  {
   "cell_type": "code",
   "execution_count": null,
   "id": "13e17ddf",
   "metadata": {},
   "outputs": [],
   "source": [
    "# 2 average daytime delay\n",
    "shaz_delay['init_time'] = shaz_delay.Date_Time-shaz_delay.diff_dt\n",
    "shaz_delay['init_time'] = shaz_delay['init_time'].dt.hour\n",
    "shaz_av_delay = shaz_delay.groupby(['init_time', 'Name','day']).mean().reset_index()\n",
    "\n",
    "shaz_av_delay_wkday = shaz_av_delay.groupby(['Name','day']).mean()\n",
    "\n",
    "shaz_av_delay_hour = shaz_av_delay.groupby(['Name','init_time']).mean().reset_index()\n"
   ]
  },
  {
   "cell_type": "code",
   "execution_count": null,
   "id": "454f6dd5",
   "metadata": {},
   "outputs": [],
   "source": [
    "# let's bin the delays to be able to do a heatmap:\n",
    "bins = [0, 2, 5, 10, 30, 60, 120, 180]\n",
    "labels = ['0-2','2-5','5-10','10-30','30-60','60-120','120-180']\n",
    "\n",
    "shaz_delay['binned'] = pd.cut(shaz_delay['diff_m'], bins=bins, labels=labels)\n",
    "shaz_delay_binned = shaz_delay.groupby(['binned','init_time', 'Name']).count().reset_index()\n",
    "#Delay Heatmap replies by Klaus\n",
    "dataGT = [\n",
    "    go.Heatmap(\n",
    "        z=shaz_delay_binned[shaz_delay_binned['Name']=='Alex Klaus:'].Text,\n",
    "        x=shaz_delay_binned[shaz_delay_binned['Name']=='Alex Klaus:'].init_time,\n",
    "        y=shaz_delay_binned[shaz_delay_binned['Name']=='Alex Klaus:'].binned,\n",
    "        colorscale='Cividis',\n",
    "    )\n",
    "]\n",
    "\n",
    "layoutGT = go.Layout(\n",
    "    title='Delay Heatmap, replies by Klaus',\n",
    "    xaxis = dict(ticks='', nticks=25, title='Time of day [hr]'),\n",
    "    yaxis = dict(ticks='', title='Delay [minutes]' )\n",
    ")\n",
    "\n",
    "fig = go.Figure(data=dataGT, layout=layoutGT)\n",
    "py.iplot(fig, filename='analysis2-heatmap-delays-klaus')\n"
   ]
  },
  {
   "cell_type": "code",
   "execution_count": null,
   "id": "422686aa",
   "metadata": {},
   "outputs": [],
   "source": [
    "#Delay Heatmap replies by Shaz\n",
    "dataOJ = [\n",
    "    go.Heatmap(\n",
    "        z=shaz_delay_binned[shaz_delay_binned['Name']=='Shaz Kandie:'].Text,\n",
    "        x=shaz_delay_binned[shaz_delay_binned['Name']=='Shaz Kandie:'].init_time,\n",
    "        y=shaz_delay_binned[shaz_delay_binned['Name']=='Shaz Kandie:'].binned,\n",
    "        colorscale='Cividis',\n",
    "    )\n",
    "]\n",
    "\n",
    "layoutOJ = go.Layout(\n",
    "    title='Delay Heatmap, replies by Shaz',\n",
    "    xaxis = dict(ticks='', nticks=25, title='Time of day [hr]'),\n",
    "    yaxis = dict(ticks='', title='Delay [minutes]' )\n",
    ")\n",
    "\n",
    "fig = go.Figure(data=dataOJ, layout=layoutOJ)\n",
    "py.iplot(fig, filename='analysis2-heatmap-delays-shaz')\n"
   ]
  },
  {
   "cell_type": "markdown",
   "id": "481763a0",
   "metadata": {},
   "source": [
    "# Machine learning model"
   ]
  },
  {
   "cell_type": "code",
   "execution_count": null,
   "id": "e6ef3b87",
   "metadata": {},
   "outputs": [],
   "source": [
    "#Pre Processing data\n",
    "#Step 1 convert to lower text\n",
    "lower_shaz = []\n",
    "def to_lower_case(data):\n",
    "    for words in shaz.Text:\n",
    "        lower_shaz.append(str.lower(words))\n"
   ]
  },
  {
   "cell_type": "code",
   "execution_count": null,
   "id": "716f6901",
   "metadata": {},
   "outputs": [],
   "source": [
    "#shaz['Text_lower'] = shaz['Text'].str.lower()"
   ]
  },
  {
   "cell_type": "code",
   "execution_count": null,
   "id": "875cac6a",
   "metadata": {},
   "outputs": [],
   "source": [
    "to_lower_case(shaz)"
   ]
  },
  {
   "cell_type": "code",
   "execution_count": null,
   "id": "98b5ae79",
   "metadata": {},
   "outputs": [],
   "source": [
    "shaz['Text_lower'] =lower_shaz\n",
    "type(lower_shaz)"
   ]
  },
  {
   "cell_type": "code",
   "execution_count": null,
   "id": "86573885",
   "metadata": {},
   "outputs": [],
   "source": [
    "#step 2 Tokenize\n",
    "from nltk.tokenize import sent_tokenize, word_tokenize\n",
    "import nltk\n",
    "#nltk.download('punkt') #commented cuz [nltk_data]   Package punkt is already up-to-date!"
   ]
  },
  {
   "cell_type": "code",
   "execution_count": null,
   "id": "768aadea",
   "metadata": {},
   "outputs": [],
   "source": [
    "#split dialogue into sentences using SENT_TOKENIZE\n",
    "#sentences = sent_tokenize(lower_shaz)\n",
    "lower_shaz_tokenized = []\n",
    "for item in lower_shaz:\n",
    "    lower_shaz_tokenized.extend(sent_tokenize(item))\n",
    "    "
   ]
  },
  {
   "cell_type": "code",
   "execution_count": null,
   "id": "44f7bf47",
   "metadata": {},
   "outputs": [],
   "source": [
    "lower_shaz_tokenized"
   ]
  },
  {
   "cell_type": "code",
   "execution_count": null,
   "id": "a822d1d4",
   "metadata": {},
   "outputs": [],
   "source": [
    "shaz['Text_lower_clean']=''"
   ]
  },
  {
   "cell_type": "code",
   "execution_count": null,
   "id": "a719f7ef",
   "metadata": {},
   "outputs": [],
   "source": [
    "# Loop over the rows   \n",
    "for index, row in shaz.iterrows():\n",
    "    Text_lower_clean = re.sub('[^a-zA-Z\\s]', '', row['Text_lower'])\n",
    "    shaz.at[index, 'Text_lower_clean'] = Text_lower_clean   "
   ]
  },
  {
   "cell_type": "code",
   "execution_count": null,
   "id": "0e66a451",
   "metadata": {},
   "outputs": [],
   "source": [
    "# Cleaning the column using the apply function\n",
    "shaz['Text_lower_clean'] = shaz['Text_lower'].apply(lambda x: re.sub('[^a-zA-Z\\s]', '', x))"
   ]
  },
  {
   "cell_type": "code",
   "execution_count": null,
   "id": "896915d6",
   "metadata": {},
   "outputs": [],
   "source": [
    "Text_lower_clean\n",
    "print(shaz.Text_lower_clean)"
   ]
  },
  {
   "cell_type": "code",
   "execution_count": null,
   "id": "824a89e0",
   "metadata": {},
   "outputs": [],
   "source": [
    "clean_text_1 = shaz.Text_lower_clean"
   ]
  },
  {
   "cell_type": "code",
   "execution_count": null,
   "id": "d10382ce",
   "metadata": {},
   "outputs": [],
   "source": [
    "clean_text_1"
   ]
  },
  {
   "cell_type": "code",
   "execution_count": null,
   "id": "71e46522",
   "metadata": {},
   "outputs": [],
   "source": [
    "#for each sentence, split it into words\n",
    "words = [word_tokenize(sentence) for sentence in clean_text_1]"
   ]
  },
  {
   "cell_type": "code",
   "execution_count": null,
   "id": "40539ca1",
   "metadata": {},
   "outputs": [],
   "source": [
    "words"
   ]
  },
  {
   "cell_type": "code",
   "execution_count": null,
   "id": "078328d5",
   "metadata": {},
   "outputs": [],
   "source": [
    "new_words = []\n",
    "for word in words:\n",
    "    new_words.append([word for word in word if word not in stop])\n",
    "print(new_words)"
   ]
  },
  {
   "cell_type": "code",
   "execution_count": null,
   "id": "25adc1de",
   "metadata": {},
   "outputs": [],
   "source": [
    "lemmatizer = WordNetLemmatizer() \n",
    "lemmatized_words = []\n",
    "for word_list in words:\n",
    "    lemmatized_list = []\n",
    "    for word in word_list:\n",
    "        lemmatized_word = lemmatizer.lemmatize(word)\n",
    "        lemmatized_list.append(lemmatized_word)\n",
    "    lemmatized_words.append(lemmatized_list)\n",
    "print(lemmatized_words)"
   ]
  },
  {
   "cell_type": "code",
   "execution_count": null,
   "id": "94863d16",
   "metadata": {},
   "outputs": [],
   "source": []
  }
 ],
 "metadata": {
  "kernelspec": {
   "display_name": "Python 3 (ipykernel)",
   "language": "python",
   "name": "python3"
  },
  "language_info": {
   "codemirror_mode": {
    "name": "ipython",
    "version": 3
   },
   "file_extension": ".py",
   "mimetype": "text/x-python",
   "name": "python",
   "nbconvert_exporter": "python",
   "pygments_lexer": "ipython3",
   "version": "3.10.9"
  }
 },
 "nbformat": 4,
 "nbformat_minor": 5
}
